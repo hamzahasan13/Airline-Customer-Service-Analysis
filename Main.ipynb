{
 "cells": [
  {
   "cell_type": "markdown",
   "metadata": {},
   "source": [
    "# ISYS2407 Information Systems Solutions & Design\n",
    "\n",
    "# Data Science Project"
   ]
  },
  {
   "cell_type": "markdown",
   "metadata": {},
   "source": [
    "## 1) Importing Libraries"
   ]
  },
  {
   "cell_type": "code",
   "execution_count": 1,
   "metadata": {},
   "outputs": [],
   "source": [
    "# Pandas is the main library used for exploratory data analysis\n",
    "# Pandas is built on top of numpy \n",
    "# Numpy allows fast advanced mathematical operations on large amount of data\n",
    "import numpy as np\n",
    "import pandas as pd\n",
    "\n",
    "# Library to assign missing values - not used here, better do it in EDA\n",
    "from sklearn.impute import SimpleImputer\n",
    "from sklearn.model_selection import train_test_split \n",
    "from sklearn.preprocessing import StandardScaler\n",
    "\n",
    "# Library for replacing labels with numbers\n",
    "from sklearn.preprocessing import LabelEncoder\n",
    "\n",
    "# Libary needed for onehot encoder\n",
    "from sklearn.preprocessing import OneHotEncoder\n",
    "from sklearn.preprocessing import LabelBinarizer\n",
    "# Just use pandas get_dummies which is a lot easier to use \n",
    "\n",
    "# Model library\n",
    "from sklearn.linear_model import LogisticRegression\n",
    "from sklearn.neighbors import KNeighborsClassifier\n",
    "from sklearn.svm import SVC\n",
    "from sklearn.ensemble import RandomForestClassifier\n",
    "from sklearn.naive_bayes import GaussianNB\n",
    "\n",
    "# Library for performing grid search\n",
    "from sklearn.model_selection import GridSearchCV\n",
    "\n",
    "# Metrics library\n",
    "from sklearn.metrics import accuracy_score\n",
    "from sklearn.metrics import confusion_matrix\n",
    "from sklearn.metrics import recall_score\n",
    "from sklearn.metrics import precision_score\n",
    "from sklearn.metrics import f1_score\n",
    "from sklearn.metrics import classification_report\n",
    "from sklearn.metrics import roc_curve\n",
    "from sklearn.metrics import auc\n",
    "\n",
    "# Libraries to select k best features\n",
    "from sklearn.feature_selection import SelectKBest\n",
    "from sklearn.feature_selection import chi2\n",
    "\n",
    "# Matplotlib is the main plotting library for python\n",
    "# Seaborn is built on top of matplotlib and it's easier to use\n",
    "import matplotlib.pyplot as plt\n",
    "# The next statement instructs matplotlib to plot the graphs inside the notebook\n",
    "%matplotlib inline \n",
    "import seaborn as sns"
   ]
  },
  {
   "cell_type": "markdown",
   "metadata": {},
   "source": [
    "## 2) Loading dataset"
   ]
  },
  {
   "cell_type": "code",
   "execution_count": 2,
   "metadata": {},
   "outputs": [
    {
     "name": "stdout",
     "output_type": "stream",
     "text": [
      "(103904, 24)\n"
     ]
    },
    {
     "data": {
      "text/html": [
       "<div>\n",
       "<style scoped>\n",
       "    .dataframe tbody tr th:only-of-type {\n",
       "        vertical-align: middle;\n",
       "    }\n",
       "\n",
       "    .dataframe tbody tr th {\n",
       "        vertical-align: top;\n",
       "    }\n",
       "\n",
       "    .dataframe thead th {\n",
       "        text-align: right;\n",
       "    }\n",
       "</style>\n",
       "<table border=\"1\" class=\"dataframe\">\n",
       "  <thead>\n",
       "    <tr style=\"text-align: right;\">\n",
       "      <th></th>\n",
       "      <th>id</th>\n",
       "      <th>gender</th>\n",
       "      <th>customer_type</th>\n",
       "      <th>age</th>\n",
       "      <th>type_of_travel</th>\n",
       "      <th>class</th>\n",
       "      <th>flight_distance</th>\n",
       "      <th>inflight_wifi_service</th>\n",
       "      <th>convenient_departure_arrival_time</th>\n",
       "      <th>ease_of_online_booking</th>\n",
       "      <th>...</th>\n",
       "      <th>inflight_entertainment</th>\n",
       "      <th>onboard_service</th>\n",
       "      <th>leg_room_service</th>\n",
       "      <th>baggage_handling</th>\n",
       "      <th>checkin_service</th>\n",
       "      <th>inflight_service</th>\n",
       "      <th>cleanliness</th>\n",
       "      <th>departure_delay(mins)</th>\n",
       "      <th>arrival_delay(mins)</th>\n",
       "      <th>satisfaction</th>\n",
       "    </tr>\n",
       "  </thead>\n",
       "  <tbody>\n",
       "    <tr>\n",
       "      <th>0</th>\n",
       "      <td>70172</td>\n",
       "      <td>Male</td>\n",
       "      <td>Loyal Customer</td>\n",
       "      <td>13</td>\n",
       "      <td>Personal Travel</td>\n",
       "      <td>Eco Plus</td>\n",
       "      <td>460</td>\n",
       "      <td>3</td>\n",
       "      <td>4</td>\n",
       "      <td>3</td>\n",
       "      <td>...</td>\n",
       "      <td>5</td>\n",
       "      <td>4</td>\n",
       "      <td>3</td>\n",
       "      <td>4</td>\n",
       "      <td>4</td>\n",
       "      <td>5</td>\n",
       "      <td>5</td>\n",
       "      <td>25</td>\n",
       "      <td>18.0</td>\n",
       "      <td>0</td>\n",
       "    </tr>\n",
       "    <tr>\n",
       "      <th>1</th>\n",
       "      <td>5047</td>\n",
       "      <td>Male</td>\n",
       "      <td>Disloyal Customer</td>\n",
       "      <td>25</td>\n",
       "      <td>Business travel</td>\n",
       "      <td>Business</td>\n",
       "      <td>235</td>\n",
       "      <td>3</td>\n",
       "      <td>2</td>\n",
       "      <td>3</td>\n",
       "      <td>...</td>\n",
       "      <td>1</td>\n",
       "      <td>1</td>\n",
       "      <td>5</td>\n",
       "      <td>3</td>\n",
       "      <td>1</td>\n",
       "      <td>4</td>\n",
       "      <td>1</td>\n",
       "      <td>1</td>\n",
       "      <td>6.0</td>\n",
       "      <td>0</td>\n",
       "    </tr>\n",
       "    <tr>\n",
       "      <th>2</th>\n",
       "      <td>110028</td>\n",
       "      <td>Female</td>\n",
       "      <td>Loyal Customer</td>\n",
       "      <td>26</td>\n",
       "      <td>Business travel</td>\n",
       "      <td>Business</td>\n",
       "      <td>1142</td>\n",
       "      <td>2</td>\n",
       "      <td>2</td>\n",
       "      <td>2</td>\n",
       "      <td>...</td>\n",
       "      <td>5</td>\n",
       "      <td>4</td>\n",
       "      <td>3</td>\n",
       "      <td>4</td>\n",
       "      <td>4</td>\n",
       "      <td>4</td>\n",
       "      <td>5</td>\n",
       "      <td>0</td>\n",
       "      <td>0.0</td>\n",
       "      <td>1</td>\n",
       "    </tr>\n",
       "    <tr>\n",
       "      <th>3</th>\n",
       "      <td>24026</td>\n",
       "      <td>Female</td>\n",
       "      <td>Loyal Customer</td>\n",
       "      <td>25</td>\n",
       "      <td>Business travel</td>\n",
       "      <td>Business</td>\n",
       "      <td>562</td>\n",
       "      <td>2</td>\n",
       "      <td>5</td>\n",
       "      <td>5</td>\n",
       "      <td>...</td>\n",
       "      <td>2</td>\n",
       "      <td>2</td>\n",
       "      <td>5</td>\n",
       "      <td>3</td>\n",
       "      <td>1</td>\n",
       "      <td>4</td>\n",
       "      <td>2</td>\n",
       "      <td>11</td>\n",
       "      <td>9.0</td>\n",
       "      <td>0</td>\n",
       "    </tr>\n",
       "    <tr>\n",
       "      <th>4</th>\n",
       "      <td>119299</td>\n",
       "      <td>Male</td>\n",
       "      <td>Loyal Customer</td>\n",
       "      <td>61</td>\n",
       "      <td>Business travel</td>\n",
       "      <td>Business</td>\n",
       "      <td>214</td>\n",
       "      <td>3</td>\n",
       "      <td>3</td>\n",
       "      <td>3</td>\n",
       "      <td>...</td>\n",
       "      <td>3</td>\n",
       "      <td>3</td>\n",
       "      <td>4</td>\n",
       "      <td>4</td>\n",
       "      <td>3</td>\n",
       "      <td>3</td>\n",
       "      <td>3</td>\n",
       "      <td>0</td>\n",
       "      <td>0.0</td>\n",
       "      <td>1</td>\n",
       "    </tr>\n",
       "  </tbody>\n",
       "</table>\n",
       "<p>5 rows × 24 columns</p>\n",
       "</div>"
      ],
      "text/plain": [
       "       id  gender      customer_type  age   type_of_travel     class  \\\n",
       "0   70172    Male     Loyal Customer   13  Personal Travel  Eco Plus   \n",
       "1    5047    Male  Disloyal Customer   25  Business travel  Business   \n",
       "2  110028  Female     Loyal Customer   26  Business travel  Business   \n",
       "3   24026  Female     Loyal Customer   25  Business travel  Business   \n",
       "4  119299    Male     Loyal Customer   61  Business travel  Business   \n",
       "\n",
       "   flight_distance  inflight_wifi_service  convenient_departure_arrival_time  \\\n",
       "0              460                      3                                  4   \n",
       "1              235                      3                                  2   \n",
       "2             1142                      2                                  2   \n",
       "3              562                      2                                  5   \n",
       "4              214                      3                                  3   \n",
       "\n",
       "   ease_of_online_booking  ...  inflight_entertainment  onboard_service  \\\n",
       "0                       3  ...                       5                4   \n",
       "1                       3  ...                       1                1   \n",
       "2                       2  ...                       5                4   \n",
       "3                       5  ...                       2                2   \n",
       "4                       3  ...                       3                3   \n",
       "\n",
       "   leg_room_service  baggage_handling  checkin_service  inflight_service  \\\n",
       "0                 3                 4                4                 5   \n",
       "1                 5                 3                1                 4   \n",
       "2                 3                 4                4                 4   \n",
       "3                 5                 3                1                 4   \n",
       "4                 4                 4                3                 3   \n",
       "\n",
       "   cleanliness  departure_delay(mins)  arrival_delay(mins)  satisfaction  \n",
       "0            5                     25                 18.0             0  \n",
       "1            1                      1                  6.0             0  \n",
       "2            5                      0                  0.0             1  \n",
       "3            2                     11                  9.0             0  \n",
       "4            3                      0                  0.0             1  \n",
       "\n",
       "[5 rows x 24 columns]"
      ]
     },
     "execution_count": 2,
     "metadata": {},
     "output_type": "execute_result"
    }
   ],
   "source": [
    "#Loading dataset and viewing the first 5 rows and number of rows and columns\n",
    "df = pd.read_csv('passenger-satisfaction.csv')\n",
    "print(df.shape)\n",
    "df.head()"
   ]
  },
  {
   "cell_type": "code",
   "execution_count": 3,
   "metadata": {},
   "outputs": [
    {
     "data": {
      "text/plain": [
       "id                                     int64\n",
       "gender                                object\n",
       "customer_type                         object\n",
       "age                                    int64\n",
       "type_of_travel                        object\n",
       "class                                 object\n",
       "flight_distance                        int64\n",
       "inflight_wifi_service                  int64\n",
       "convenient_departure_arrival_time      int64\n",
       "ease_of_online_booking                 int64\n",
       "gate_location                          int64\n",
       "food_and_drink                         int64\n",
       "online_boarding                        int64\n",
       "seat_comfort                           int64\n",
       "inflight_entertainment                 int64\n",
       "onboard_service                        int64\n",
       "leg_room_service                       int64\n",
       "baggage_handling                       int64\n",
       "checkin_service                        int64\n",
       "inflight_service                       int64\n",
       "cleanliness                            int64\n",
       "departure_delay(mins)                  int64\n",
       "arrival_delay(mins)                  float64\n",
       "satisfaction                           int64\n",
       "dtype: object"
      ]
     },
     "execution_count": 3,
     "metadata": {},
     "output_type": "execute_result"
    }
   ],
   "source": [
    "#checking the column types\n",
    "df.dtypes"
   ]
  },
  {
   "cell_type": "code",
   "execution_count": 4,
   "metadata": {},
   "outputs": [
    {
     "name": "stdout",
     "output_type": "stream",
     "text": [
      "<class 'pandas.core.frame.DataFrame'>\n",
      "RangeIndex: 103904 entries, 0 to 103903\n",
      "Data columns (total 24 columns):\n",
      " #   Column                             Non-Null Count   Dtype  \n",
      "---  ------                             --------------   -----  \n",
      " 0   id                                 103904 non-null  int64  \n",
      " 1   gender                             103904 non-null  object \n",
      " 2   customer_type                      103904 non-null  object \n",
      " 3   age                                103904 non-null  int64  \n",
      " 4   type_of_travel                     103904 non-null  object \n",
      " 5   class                              103904 non-null  object \n",
      " 6   flight_distance                    103904 non-null  int64  \n",
      " 7   inflight_wifi_service              103904 non-null  int64  \n",
      " 8   convenient_departure_arrival_time  103904 non-null  int64  \n",
      " 9   ease_of_online_booking             103904 non-null  int64  \n",
      " 10  gate_location                      103904 non-null  int64  \n",
      " 11  food_and_drink                     103904 non-null  int64  \n",
      " 12  online_boarding                    103904 non-null  int64  \n",
      " 13  seat_comfort                       103904 non-null  int64  \n",
      " 14  inflight_entertainment             103904 non-null  int64  \n",
      " 15  onboard_service                    103904 non-null  int64  \n",
      " 16  leg_room_service                   103904 non-null  int64  \n",
      " 17  baggage_handling                   103904 non-null  int64  \n",
      " 18  checkin_service                    103904 non-null  int64  \n",
      " 19  inflight_service                   103904 non-null  int64  \n",
      " 20  cleanliness                        103904 non-null  int64  \n",
      " 21  departure_delay(mins)              103904 non-null  int64  \n",
      " 22  arrival_delay(mins)                103594 non-null  float64\n",
      " 23  satisfaction                       103904 non-null  int64  \n",
      "dtypes: float64(1), int64(19), object(4)\n",
      "memory usage: 19.0+ MB\n",
      "None\n"
     ]
    }
   ],
   "source": [
    "#checking for missing values if any\n",
    "print(df.info())"
   ]
  },
  {
   "cell_type": "code",
   "execution_count": 5,
   "metadata": {},
   "outputs": [
    {
     "name": "stdout",
     "output_type": "stream",
     "text": [
      "id                                     0\n",
      "gender                                 0\n",
      "customer_type                          0\n",
      "age                                    0\n",
      "type_of_travel                         0\n",
      "class                                  0\n",
      "flight_distance                        0\n",
      "inflight_wifi_service                  0\n",
      "convenient_departure_arrival_time      0\n",
      "ease_of_online_booking                 0\n",
      "gate_location                          0\n",
      "food_and_drink                         0\n",
      "online_boarding                        0\n",
      "seat_comfort                           0\n",
      "inflight_entertainment                 0\n",
      "onboard_service                        0\n",
      "leg_room_service                       0\n",
      "baggage_handling                       0\n",
      "checkin_service                        0\n",
      "inflight_service                       0\n",
      "cleanliness                            0\n",
      "departure_delay(mins)                  0\n",
      "arrival_delay(mins)                  310\n",
      "satisfaction                           0\n",
      "dtype: int64\n"
     ]
    }
   ],
   "source": [
    "print(df.isnull().sum());\n",
    "#arrival_delay contains missing values"
   ]
  },
  {
   "cell_type": "code",
   "execution_count": 6,
   "metadata": {},
   "outputs": [
    {
     "name": "stdout",
     "output_type": "stream",
     "text": [
      "id                                   0.0000\n",
      "gender                               0.0000\n",
      "customer_type                        0.0000\n",
      "age                                  0.0000\n",
      "type_of_travel                       0.0000\n",
      "class                                0.0000\n",
      "flight_distance                      0.0000\n",
      "inflight_wifi_service                0.0000\n",
      "convenient_departure_arrival_time    0.0000\n",
      "ease_of_online_booking               0.0000\n",
      "gate_location                        0.0000\n",
      "food_and_drink                       0.0000\n",
      "online_boarding                      0.0000\n",
      "seat_comfort                         0.0000\n",
      "inflight_entertainment               0.0000\n",
      "onboard_service                      0.0000\n",
      "leg_room_service                     0.0000\n",
      "baggage_handling                     0.0000\n",
      "checkin_service                      0.0000\n",
      "inflight_service                     0.0000\n",
      "cleanliness                          0.0000\n",
      "departure_delay(mins)                0.0000\n",
      "arrival_delay(mins)                  0.2984\n",
      "satisfaction                         0.0000\n",
      "dtype: float64\n"
     ]
    }
   ],
   "source": [
    "percent_missing = round(df.isna().mean() * 100, 4)\n",
    "print(percent_missing)"
   ]
  },
  {
   "cell_type": "markdown",
   "metadata": {},
   "source": [
    "# 3) Deleting any duplicate rows"
   ]
  },
  {
   "cell_type": "code",
   "execution_count": 7,
   "metadata": {},
   "outputs": [
    {
     "name": "stdout",
     "output_type": "stream",
     "text": [
      "(103904, 24)\n",
      "(103904, 24)\n"
     ]
    }
   ],
   "source": [
    "print(df.shape)\n",
    "\n",
    "# Ref: https://pandas.pydata.org/pandas-docs/stable/reference/api/pandas.DataFrame.drop_duplicates.html\n",
    "df.drop_duplicates(inplace=True) # will keep first copy\n",
    "\n",
    "# You may want to reset the index\n",
    "# REf: https://pandas.pydata.org/pandas-docs/stable/reference/api/pandas.DataFrame.drop_duplicates.html\n",
    "df.reset_index(drop=True, inplace=True) # reset index to default integer index\n",
    "\n",
    "# Check\n",
    "print(df.shape)"
   ]
  },
  {
   "cell_type": "markdown",
   "metadata": {},
   "source": [
    "# 4) Summary and Descriptive Statistics"
   ]
  },
  {
   "cell_type": "code",
   "execution_count": 8,
   "metadata": {},
   "outputs": [
    {
     "name": "stdout",
     "output_type": "stream",
     "text": [
      "Features : ['id', 'gender', 'customer_type', 'age', 'type_of_travel', 'class', 'flight_distance', 'inflight_wifi_service', 'convenient_departure_arrival_time', 'ease_of_online_booking', 'gate_location', 'food_and_drink', 'online_boarding', 'seat_comfort', 'inflight_entertainment', 'onboard_service', 'leg_room_service', 'baggage_handling', 'checkin_service', 'inflight_service', 'cleanliness', 'departure_delay(mins)', 'arrival_delay(mins)', 'satisfaction']\n",
      "\n",
      "Missing values :  310\n",
      "Unique values :  id                                   103904\n",
      "gender                                    2\n",
      "customer_type                             2\n",
      "age                                      75\n",
      "type_of_travel                            2\n",
      "class                                     3\n",
      "flight_distance                        3802\n",
      "inflight_wifi_service                     6\n",
      "convenient_departure_arrival_time         6\n",
      "ease_of_online_booking                    6\n",
      "gate_location                             6\n",
      "food_and_drink                            6\n",
      "online_boarding                           6\n",
      "seat_comfort                              6\n",
      "inflight_entertainment                    6\n",
      "onboard_service                           6\n",
      "leg_room_service                          6\n",
      "baggage_handling                          5\n",
      "checkin_service                           6\n",
      "inflight_service                          6\n",
      "cleanliness                               6\n",
      "departure_delay(mins)                   446\n",
      "arrival_delay(mins)                     455\n",
      "satisfaction                              2\n",
      "dtype: int64\n"
     ]
    }
   ],
   "source": [
    "print(f\"Features : {df.columns.tolist()}\")\n",
    "print()\n",
    "\n",
    "# Print the total number of null values in the data\n",
    "# Null values are - NaN (not a number), or blank spaces\n",
    "# 0 is not a null value - it's a valid value\n",
    "print(f\"Missing values :  {df.isnull().sum().values.sum()}\")\n",
    "\n",
    "# 2 unique values in column - binary categorical variable e.g. male/female, yes/no, etc\n",
    "# less than 6 values in columns - still a categorical value but with more than 2 classes\n",
    "# large number of values - continuous variable\n",
    "print(f\"Unique values :  {df.nunique()}\")"
   ]
  },
  {
   "cell_type": "code",
   "execution_count": 9,
   "metadata": {},
   "outputs": [
    {
     "data": {
      "text/html": [
       "<div>\n",
       "<style scoped>\n",
       "    .dataframe tbody tr th:only-of-type {\n",
       "        vertical-align: middle;\n",
       "    }\n",
       "\n",
       "    .dataframe tbody tr th {\n",
       "        vertical-align: top;\n",
       "    }\n",
       "\n",
       "    .dataframe thead th {\n",
       "        text-align: right;\n",
       "    }\n",
       "</style>\n",
       "<table border=\"1\" class=\"dataframe\">\n",
       "  <thead>\n",
       "    <tr style=\"text-align: right;\">\n",
       "      <th></th>\n",
       "      <th>count</th>\n",
       "      <th>mean</th>\n",
       "      <th>std</th>\n",
       "      <th>min</th>\n",
       "      <th>25%</th>\n",
       "      <th>50%</th>\n",
       "      <th>75%</th>\n",
       "      <th>max</th>\n",
       "    </tr>\n",
       "  </thead>\n",
       "  <tbody>\n",
       "    <tr>\n",
       "      <th>id</th>\n",
       "      <td>103904.0</td>\n",
       "      <td>64924.210502</td>\n",
       "      <td>37463.812252</td>\n",
       "      <td>1.0</td>\n",
       "      <td>32533.75</td>\n",
       "      <td>64856.5</td>\n",
       "      <td>97368.25</td>\n",
       "      <td>129880.0</td>\n",
       "    </tr>\n",
       "    <tr>\n",
       "      <th>age</th>\n",
       "      <td>103904.0</td>\n",
       "      <td>39.379706</td>\n",
       "      <td>15.114964</td>\n",
       "      <td>7.0</td>\n",
       "      <td>27.00</td>\n",
       "      <td>40.0</td>\n",
       "      <td>51.00</td>\n",
       "      <td>85.0</td>\n",
       "    </tr>\n",
       "    <tr>\n",
       "      <th>flight_distance</th>\n",
       "      <td>103904.0</td>\n",
       "      <td>1189.448375</td>\n",
       "      <td>997.147281</td>\n",
       "      <td>31.0</td>\n",
       "      <td>414.00</td>\n",
       "      <td>843.0</td>\n",
       "      <td>1743.00</td>\n",
       "      <td>4983.0</td>\n",
       "    </tr>\n",
       "    <tr>\n",
       "      <th>inflight_wifi_service</th>\n",
       "      <td>103904.0</td>\n",
       "      <td>2.729683</td>\n",
       "      <td>1.327829</td>\n",
       "      <td>0.0</td>\n",
       "      <td>2.00</td>\n",
       "      <td>3.0</td>\n",
       "      <td>4.00</td>\n",
       "      <td>5.0</td>\n",
       "    </tr>\n",
       "    <tr>\n",
       "      <th>convenient_departure_arrival_time</th>\n",
       "      <td>103904.0</td>\n",
       "      <td>3.060296</td>\n",
       "      <td>1.525075</td>\n",
       "      <td>0.0</td>\n",
       "      <td>2.00</td>\n",
       "      <td>3.0</td>\n",
       "      <td>4.00</td>\n",
       "      <td>5.0</td>\n",
       "    </tr>\n",
       "    <tr>\n",
       "      <th>ease_of_online_booking</th>\n",
       "      <td>103904.0</td>\n",
       "      <td>2.756901</td>\n",
       "      <td>1.398929</td>\n",
       "      <td>0.0</td>\n",
       "      <td>2.00</td>\n",
       "      <td>3.0</td>\n",
       "      <td>4.00</td>\n",
       "      <td>5.0</td>\n",
       "    </tr>\n",
       "    <tr>\n",
       "      <th>gate_location</th>\n",
       "      <td>103904.0</td>\n",
       "      <td>2.976883</td>\n",
       "      <td>1.277621</td>\n",
       "      <td>0.0</td>\n",
       "      <td>2.00</td>\n",
       "      <td>3.0</td>\n",
       "      <td>4.00</td>\n",
       "      <td>5.0</td>\n",
       "    </tr>\n",
       "    <tr>\n",
       "      <th>food_and_drink</th>\n",
       "      <td>103904.0</td>\n",
       "      <td>3.202129</td>\n",
       "      <td>1.329533</td>\n",
       "      <td>0.0</td>\n",
       "      <td>2.00</td>\n",
       "      <td>3.0</td>\n",
       "      <td>4.00</td>\n",
       "      <td>5.0</td>\n",
       "    </tr>\n",
       "    <tr>\n",
       "      <th>online_boarding</th>\n",
       "      <td>103904.0</td>\n",
       "      <td>3.250375</td>\n",
       "      <td>1.349509</td>\n",
       "      <td>0.0</td>\n",
       "      <td>2.00</td>\n",
       "      <td>3.0</td>\n",
       "      <td>4.00</td>\n",
       "      <td>5.0</td>\n",
       "    </tr>\n",
       "    <tr>\n",
       "      <th>seat_comfort</th>\n",
       "      <td>103904.0</td>\n",
       "      <td>3.439396</td>\n",
       "      <td>1.319088</td>\n",
       "      <td>0.0</td>\n",
       "      <td>2.00</td>\n",
       "      <td>4.0</td>\n",
       "      <td>5.00</td>\n",
       "      <td>5.0</td>\n",
       "    </tr>\n",
       "    <tr>\n",
       "      <th>inflight_entertainment</th>\n",
       "      <td>103904.0</td>\n",
       "      <td>3.358158</td>\n",
       "      <td>1.332991</td>\n",
       "      <td>0.0</td>\n",
       "      <td>2.00</td>\n",
       "      <td>4.0</td>\n",
       "      <td>4.00</td>\n",
       "      <td>5.0</td>\n",
       "    </tr>\n",
       "    <tr>\n",
       "      <th>onboard_service</th>\n",
       "      <td>103904.0</td>\n",
       "      <td>3.382363</td>\n",
       "      <td>1.288354</td>\n",
       "      <td>0.0</td>\n",
       "      <td>2.00</td>\n",
       "      <td>4.0</td>\n",
       "      <td>4.00</td>\n",
       "      <td>5.0</td>\n",
       "    </tr>\n",
       "    <tr>\n",
       "      <th>leg_room_service</th>\n",
       "      <td>103904.0</td>\n",
       "      <td>3.351055</td>\n",
       "      <td>1.315605</td>\n",
       "      <td>0.0</td>\n",
       "      <td>2.00</td>\n",
       "      <td>4.0</td>\n",
       "      <td>4.00</td>\n",
       "      <td>5.0</td>\n",
       "    </tr>\n",
       "    <tr>\n",
       "      <th>baggage_handling</th>\n",
       "      <td>103904.0</td>\n",
       "      <td>3.631833</td>\n",
       "      <td>1.180903</td>\n",
       "      <td>1.0</td>\n",
       "      <td>3.00</td>\n",
       "      <td>4.0</td>\n",
       "      <td>5.00</td>\n",
       "      <td>5.0</td>\n",
       "    </tr>\n",
       "    <tr>\n",
       "      <th>checkin_service</th>\n",
       "      <td>103904.0</td>\n",
       "      <td>3.304290</td>\n",
       "      <td>1.265396</td>\n",
       "      <td>0.0</td>\n",
       "      <td>3.00</td>\n",
       "      <td>3.0</td>\n",
       "      <td>4.00</td>\n",
       "      <td>5.0</td>\n",
       "    </tr>\n",
       "    <tr>\n",
       "      <th>inflight_service</th>\n",
       "      <td>103904.0</td>\n",
       "      <td>3.640428</td>\n",
       "      <td>1.175663</td>\n",
       "      <td>0.0</td>\n",
       "      <td>3.00</td>\n",
       "      <td>4.0</td>\n",
       "      <td>5.00</td>\n",
       "      <td>5.0</td>\n",
       "    </tr>\n",
       "    <tr>\n",
       "      <th>cleanliness</th>\n",
       "      <td>103904.0</td>\n",
       "      <td>3.286351</td>\n",
       "      <td>1.312273</td>\n",
       "      <td>0.0</td>\n",
       "      <td>2.00</td>\n",
       "      <td>3.0</td>\n",
       "      <td>4.00</td>\n",
       "      <td>5.0</td>\n",
       "    </tr>\n",
       "    <tr>\n",
       "      <th>departure_delay(mins)</th>\n",
       "      <td>103904.0</td>\n",
       "      <td>14.815618</td>\n",
       "      <td>38.230901</td>\n",
       "      <td>0.0</td>\n",
       "      <td>0.00</td>\n",
       "      <td>0.0</td>\n",
       "      <td>12.00</td>\n",
       "      <td>1592.0</td>\n",
       "    </tr>\n",
       "    <tr>\n",
       "      <th>arrival_delay(mins)</th>\n",
       "      <td>103594.0</td>\n",
       "      <td>15.178678</td>\n",
       "      <td>38.698682</td>\n",
       "      <td>0.0</td>\n",
       "      <td>0.00</td>\n",
       "      <td>0.0</td>\n",
       "      <td>13.00</td>\n",
       "      <td>1584.0</td>\n",
       "    </tr>\n",
       "    <tr>\n",
       "      <th>satisfaction</th>\n",
       "      <td>103904.0</td>\n",
       "      <td>0.433333</td>\n",
       "      <td>0.495538</td>\n",
       "      <td>0.0</td>\n",
       "      <td>0.00</td>\n",
       "      <td>0.0</td>\n",
       "      <td>1.00</td>\n",
       "      <td>1.0</td>\n",
       "    </tr>\n",
       "  </tbody>\n",
       "</table>\n",
       "</div>"
      ],
      "text/plain": [
       "                                      count          mean           std   min  \\\n",
       "id                                 103904.0  64924.210502  37463.812252   1.0   \n",
       "age                                103904.0     39.379706     15.114964   7.0   \n",
       "flight_distance                    103904.0   1189.448375    997.147281  31.0   \n",
       "inflight_wifi_service              103904.0      2.729683      1.327829   0.0   \n",
       "convenient_departure_arrival_time  103904.0      3.060296      1.525075   0.0   \n",
       "ease_of_online_booking             103904.0      2.756901      1.398929   0.0   \n",
       "gate_location                      103904.0      2.976883      1.277621   0.0   \n",
       "food_and_drink                     103904.0      3.202129      1.329533   0.0   \n",
       "online_boarding                    103904.0      3.250375      1.349509   0.0   \n",
       "seat_comfort                       103904.0      3.439396      1.319088   0.0   \n",
       "inflight_entertainment             103904.0      3.358158      1.332991   0.0   \n",
       "onboard_service                    103904.0      3.382363      1.288354   0.0   \n",
       "leg_room_service                   103904.0      3.351055      1.315605   0.0   \n",
       "baggage_handling                   103904.0      3.631833      1.180903   1.0   \n",
       "checkin_service                    103904.0      3.304290      1.265396   0.0   \n",
       "inflight_service                   103904.0      3.640428      1.175663   0.0   \n",
       "cleanliness                        103904.0      3.286351      1.312273   0.0   \n",
       "departure_delay(mins)              103904.0     14.815618     38.230901   0.0   \n",
       "arrival_delay(mins)                103594.0     15.178678     38.698682   0.0   \n",
       "satisfaction                       103904.0      0.433333      0.495538   0.0   \n",
       "\n",
       "                                        25%      50%       75%       max  \n",
       "id                                 32533.75  64856.5  97368.25  129880.0  \n",
       "age                                   27.00     40.0     51.00      85.0  \n",
       "flight_distance                      414.00    843.0   1743.00    4983.0  \n",
       "inflight_wifi_service                  2.00      3.0      4.00       5.0  \n",
       "convenient_departure_arrival_time      2.00      3.0      4.00       5.0  \n",
       "ease_of_online_booking                 2.00      3.0      4.00       5.0  \n",
       "gate_location                          2.00      3.0      4.00       5.0  \n",
       "food_and_drink                         2.00      3.0      4.00       5.0  \n",
       "online_boarding                        2.00      3.0      4.00       5.0  \n",
       "seat_comfort                           2.00      4.0      5.00       5.0  \n",
       "inflight_entertainment                 2.00      4.0      4.00       5.0  \n",
       "onboard_service                        2.00      4.0      4.00       5.0  \n",
       "leg_room_service                       2.00      4.0      4.00       5.0  \n",
       "baggage_handling                       3.00      4.0      5.00       5.0  \n",
       "checkin_service                        3.00      3.0      4.00       5.0  \n",
       "inflight_service                       3.00      4.0      5.00       5.0  \n",
       "cleanliness                            2.00      3.0      4.00       5.0  \n",
       "departure_delay(mins)                  0.00      0.0     12.00    1592.0  \n",
       "arrival_delay(mins)                    0.00      0.0     13.00    1584.0  \n",
       "satisfaction                           0.00      0.0      1.00       1.0  "
      ]
     },
     "execution_count": 9,
     "metadata": {},
     "output_type": "execute_result"
    }
   ],
   "source": [
    "df.describe().T"
   ]
  },
  {
   "cell_type": "markdown",
   "metadata": {},
   "source": [
    "# 5) Dropping rows with missing values"
   ]
  },
  {
   "cell_type": "code",
   "execution_count": 10,
   "metadata": {},
   "outputs": [
    {
     "name": "stdout",
     "output_type": "stream",
     "text": [
      "(103904, 24)\n"
     ]
    },
    {
     "data": {
      "text/plain": [
       "(103594, 24)"
      ]
     },
     "execution_count": 10,
     "metadata": {},
     "output_type": "execute_result"
    }
   ],
   "source": [
    "print(df.shape)\n",
    "df.dropna(inplace=True);\n",
    "df.shape"
   ]
  },
  {
   "cell_type": "markdown",
   "metadata": {},
   "source": [
    "# 6) Discretization of continuous variable"
   ]
  },
  {
   "cell_type": "code",
   "execution_count": 11,
   "metadata": {},
   "outputs": [
    {
     "data": {
      "text/html": [
       "<div>\n",
       "<style scoped>\n",
       "    .dataframe tbody tr th:only-of-type {\n",
       "        vertical-align: middle;\n",
       "    }\n",
       "\n",
       "    .dataframe tbody tr th {\n",
       "        vertical-align: top;\n",
       "    }\n",
       "\n",
       "    .dataframe thead th {\n",
       "        text-align: right;\n",
       "    }\n",
       "</style>\n",
       "<table border=\"1\" class=\"dataframe\">\n",
       "  <thead>\n",
       "    <tr style=\"text-align: right;\">\n",
       "      <th></th>\n",
       "      <th>id</th>\n",
       "      <th>gender</th>\n",
       "      <th>customer_type</th>\n",
       "      <th>type_of_travel</th>\n",
       "      <th>class</th>\n",
       "      <th>flight_distance</th>\n",
       "      <th>inflight_wifi_service</th>\n",
       "      <th>convenient_departure_arrival_time</th>\n",
       "      <th>ease_of_online_booking</th>\n",
       "      <th>gate_location</th>\n",
       "      <th>...</th>\n",
       "      <th>onboard_service</th>\n",
       "      <th>leg_room_service</th>\n",
       "      <th>baggage_handling</th>\n",
       "      <th>checkin_service</th>\n",
       "      <th>inflight_service</th>\n",
       "      <th>cleanliness</th>\n",
       "      <th>departure_delay(mins)</th>\n",
       "      <th>arrival_delay(mins)</th>\n",
       "      <th>satisfaction</th>\n",
       "      <th>age_split</th>\n",
       "    </tr>\n",
       "  </thead>\n",
       "  <tbody>\n",
       "    <tr>\n",
       "      <th>0</th>\n",
       "      <td>70172</td>\n",
       "      <td>Male</td>\n",
       "      <td>Loyal Customer</td>\n",
       "      <td>Personal Travel</td>\n",
       "      <td>Eco Plus</td>\n",
       "      <td>460</td>\n",
       "      <td>3</td>\n",
       "      <td>4</td>\n",
       "      <td>3</td>\n",
       "      <td>1</td>\n",
       "      <td>...</td>\n",
       "      <td>4</td>\n",
       "      <td>3</td>\n",
       "      <td>4</td>\n",
       "      <td>4</td>\n",
       "      <td>5</td>\n",
       "      <td>5</td>\n",
       "      <td>25</td>\n",
       "      <td>18.0</td>\n",
       "      <td>0</td>\n",
       "      <td>young</td>\n",
       "    </tr>\n",
       "    <tr>\n",
       "      <th>1</th>\n",
       "      <td>5047</td>\n",
       "      <td>Male</td>\n",
       "      <td>Disloyal Customer</td>\n",
       "      <td>Business travel</td>\n",
       "      <td>Business</td>\n",
       "      <td>235</td>\n",
       "      <td>3</td>\n",
       "      <td>2</td>\n",
       "      <td>3</td>\n",
       "      <td>3</td>\n",
       "      <td>...</td>\n",
       "      <td>1</td>\n",
       "      <td>5</td>\n",
       "      <td>3</td>\n",
       "      <td>1</td>\n",
       "      <td>4</td>\n",
       "      <td>1</td>\n",
       "      <td>1</td>\n",
       "      <td>6.0</td>\n",
       "      <td>0</td>\n",
       "      <td>adult</td>\n",
       "    </tr>\n",
       "    <tr>\n",
       "      <th>2</th>\n",
       "      <td>110028</td>\n",
       "      <td>Female</td>\n",
       "      <td>Loyal Customer</td>\n",
       "      <td>Business travel</td>\n",
       "      <td>Business</td>\n",
       "      <td>1142</td>\n",
       "      <td>2</td>\n",
       "      <td>2</td>\n",
       "      <td>2</td>\n",
       "      <td>2</td>\n",
       "      <td>...</td>\n",
       "      <td>4</td>\n",
       "      <td>3</td>\n",
       "      <td>4</td>\n",
       "      <td>4</td>\n",
       "      <td>4</td>\n",
       "      <td>5</td>\n",
       "      <td>0</td>\n",
       "      <td>0.0</td>\n",
       "      <td>1</td>\n",
       "      <td>adult</td>\n",
       "    </tr>\n",
       "    <tr>\n",
       "      <th>3</th>\n",
       "      <td>24026</td>\n",
       "      <td>Female</td>\n",
       "      <td>Loyal Customer</td>\n",
       "      <td>Business travel</td>\n",
       "      <td>Business</td>\n",
       "      <td>562</td>\n",
       "      <td>2</td>\n",
       "      <td>5</td>\n",
       "      <td>5</td>\n",
       "      <td>5</td>\n",
       "      <td>...</td>\n",
       "      <td>2</td>\n",
       "      <td>5</td>\n",
       "      <td>3</td>\n",
       "      <td>1</td>\n",
       "      <td>4</td>\n",
       "      <td>2</td>\n",
       "      <td>11</td>\n",
       "      <td>9.0</td>\n",
       "      <td>0</td>\n",
       "      <td>adult</td>\n",
       "    </tr>\n",
       "    <tr>\n",
       "      <th>4</th>\n",
       "      <td>119299</td>\n",
       "      <td>Male</td>\n",
       "      <td>Loyal Customer</td>\n",
       "      <td>Business travel</td>\n",
       "      <td>Business</td>\n",
       "      <td>214</td>\n",
       "      <td>3</td>\n",
       "      <td>3</td>\n",
       "      <td>3</td>\n",
       "      <td>3</td>\n",
       "      <td>...</td>\n",
       "      <td>3</td>\n",
       "      <td>4</td>\n",
       "      <td>4</td>\n",
       "      <td>3</td>\n",
       "      <td>3</td>\n",
       "      <td>3</td>\n",
       "      <td>0</td>\n",
       "      <td>0.0</td>\n",
       "      <td>1</td>\n",
       "      <td>old</td>\n",
       "    </tr>\n",
       "  </tbody>\n",
       "</table>\n",
       "<p>5 rows × 24 columns</p>\n",
       "</div>"
      ],
      "text/plain": [
       "       id  gender      customer_type   type_of_travel     class  \\\n",
       "0   70172    Male     Loyal Customer  Personal Travel  Eco Plus   \n",
       "1    5047    Male  Disloyal Customer  Business travel  Business   \n",
       "2  110028  Female     Loyal Customer  Business travel  Business   \n",
       "3   24026  Female     Loyal Customer  Business travel  Business   \n",
       "4  119299    Male     Loyal Customer  Business travel  Business   \n",
       "\n",
       "   flight_distance  inflight_wifi_service  convenient_departure_arrival_time  \\\n",
       "0              460                      3                                  4   \n",
       "1              235                      3                                  2   \n",
       "2             1142                      2                                  2   \n",
       "3              562                      2                                  5   \n",
       "4              214                      3                                  3   \n",
       "\n",
       "   ease_of_online_booking  gate_location  ...  onboard_service  \\\n",
       "0                       3              1  ...                4   \n",
       "1                       3              3  ...                1   \n",
       "2                       2              2  ...                4   \n",
       "3                       5              5  ...                2   \n",
       "4                       3              3  ...                3   \n",
       "\n",
       "   leg_room_service  baggage_handling  checkin_service  inflight_service  \\\n",
       "0                 3                 4                4                 5   \n",
       "1                 5                 3                1                 4   \n",
       "2                 3                 4                4                 4   \n",
       "3                 5                 3                1                 4   \n",
       "4                 4                 4                3                 3   \n",
       "\n",
       "   cleanliness  departure_delay(mins)  arrival_delay(mins)  satisfaction  \\\n",
       "0            5                     25                 18.0             0   \n",
       "1            1                      1                  6.0             0   \n",
       "2            5                      0                  0.0             1   \n",
       "3            2                     11                  9.0             0   \n",
       "4            3                      0                  0.0             1   \n",
       "\n",
       "   age_split  \n",
       "0      young  \n",
       "1      adult  \n",
       "2      adult  \n",
       "3      adult  \n",
       "4        old  \n",
       "\n",
       "[5 rows x 24 columns]"
      ]
     },
     "execution_count": 11,
     "metadata": {},
     "output_type": "execute_result"
    }
   ],
   "source": [
    "cols_to_disc = ['age'];\n",
    "\n",
    "def discretization(df):\n",
    "    if df['age']<=20:\n",
    "        return 'young'\n",
    "    elif (df['age']>20) & (df['age']<50):\n",
    "        return 'adult'\n",
    "    elif df['age']>=50:\n",
    "        return 'old'\n",
    "\n",
    "df = df.copy()\n",
    "df['age_split'] = df.apply(lambda df:discretization(df),axis=1)\n",
    "\n",
    "df.drop('age',axis=1,inplace=True);\n",
    "df.head()"
   ]
  },
  {
   "cell_type": "markdown",
   "metadata": {},
   "source": [
    "# 7) Visualizations"
   ]
  },
  {
   "cell_type": "markdown",
   "metadata": {},
   "source": [
    "## 7.1) Correlation between features"
   ]
  },
  {
   "cell_type": "code",
   "execution_count": 12,
   "metadata": {},
   "outputs": [
    {
     "data": {
      "text/plain": [
       "Text(0.5, 1.0, 'Correlation between features')"
      ]
     },
     "execution_count": 12,
     "metadata": {},
     "output_type": "execute_result"
    },
    {
     "data": {
      "image/png": "[encoded data removed]",
      "text/plain": [
       "<Figure size 1440x1080 with 2 Axes>"
      ]
     },
     "metadata": {
      "needs_background": "light"
     },
     "output_type": "display_data"
    }
   ],
   "source": [
    "plt.rcParams['figure.figsize'] = (20, 15) #figsize(width, height) in inches - default(6.4, 4.8) - customise as required\n",
    "sns.heatmap(df.corr(), annot = True, linewidths=.5, cmap=\"YlGnBu\") # YellowGreenBlue\n",
    "plt.title('Correlation between features', fontsize = 30)\n",
    "# The colours show the strength of the correlations - from yellow (weak) to dark blue (strong)\n",
    "# Cells on the diagonal are dark blue (corr=1) - correlation of the variable with itself"
   ]
  },
  {
   "cell_type": "markdown",
   "metadata": {},
   "source": [
    "## 7.2) Satisfied or Unsatisfied Customers"
   ]
  },
  {
   "cell_type": "code",
   "execution_count": 13,
   "metadata": {},
   "outputs": [
    {
     "name": "stdout",
     "output_type": "stream",
     "text": [
      "labels: ['Dissatisfied', 'Satisfied']\n",
      "values: [58697, 44897]\n"
     ]
    },
    {
     "data": {
      "image/png": "[encoded data removed]",
      "text/plain": [
       "<Figure size 720x720 with 1 Axes>"
      ]
     },
     "metadata": {},
     "output_type": "display_data"
    }
   ],
   "source": [
    "labels = [\"Dissatisfied\", \"Satisfied\"];\n",
    "print(f\"labels: {labels}\");\n",
    "\n",
    "# Get the values from the \"outcome\" column - use values to get the values\n",
    "values = df[\"satisfaction\"].value_counts().values.tolist();\n",
    "print(f\"values: {values}\");\n",
    "\n",
    "# Use matplotlib to draw a simple pie chart\n",
    "plt.figure(figsize=(10,10)); #figsize(width, height) in inches - default(6.4, 4.8) - customise as required\n",
    "plt.pie(values, labels=labels, autopct='%1.1f%%', shadow=True);\n",
    "plt.title(\"Customer Satisfaction\", fontsize=20);"
   ]
  },
  {
   "cell_type": "markdown",
   "metadata": {},
   "source": [
    "##### The pie chart shows that majority of the customers were satisfied with the airline"
   ]
  },
  {
   "cell_type": "markdown",
   "metadata": {},
   "source": [
    "## 7.3) Visualization of continuous variables"
   ]
  },
  {
   "cell_type": "code",
   "execution_count": 14,
   "metadata": {},
   "outputs": [
    {
     "data": {
      "image/png": "[encoded data removed]",
      "text/plain": [
       "<Figure size 720x720 with 1 Axes>"
      ]
     },
     "metadata": {
      "needs_background": "light"
     },
     "output_type": "display_data"
    }
   ],
   "source": [
    "plt.figure(figsize=(10,10))\n",
    "sns.countplot(x=\"gender\", data=df);"
   ]
  },
  {
   "cell_type": "markdown",
   "metadata": {},
   "source": [
    "###### Majority of the customers were female"
   ]
  },
  {
   "cell_type": "code",
   "execution_count": 15,
   "metadata": {},
   "outputs": [
    {
     "data": {
      "text/plain": [
       "<AxesSubplot:xlabel='gender', ylabel='count'>"
      ]
     },
     "execution_count": 15,
     "metadata": {},
     "output_type": "execute_result"
    },
    {
     "data": {
      "image/png": "[encoded data removed]",
      "text/plain": [
       "<Figure size 1440x1080 with 1 Axes>"
      ]
     },
     "metadata": {
      "needs_background": "light"
     },
     "output_type": "display_data"
    }
   ],
   "source": [
    "sns.countplot(x='gender',data=df,hue='satisfaction') # grouped by outcome"
   ]
  },
  {
   "cell_type": "markdown",
   "metadata": {},
   "source": [
    "##### The countplot shows that majority of both male and female were dissatisfied with the airline's services"
   ]
  },
  {
   "cell_type": "code",
   "execution_count": 16,
   "metadata": {},
   "outputs": [
    {
     "data": {
      "image/png": "[encoded data removed]",
      "text/plain": [
       "<Figure size 720x720 with 1 Axes>"
      ]
     },
     "metadata": {
      "needs_background": "light"
     },
     "output_type": "display_data"
    }
   ],
   "source": [
    "plt.figure(figsize=(10,10))\n",
    "sns.countplot(x=\"customer_type\", data=df);"
   ]
  },
  {
   "cell_type": "markdown",
   "metadata": {},
   "source": [
    "##### Majority of the customers were loyal"
   ]
  },
  {
   "cell_type": "code",
   "execution_count": 17,
   "metadata": {},
   "outputs": [
    {
     "data": {
      "image/png": "[encoded data removed]",
      "text/plain": [
       "<Figure size 720x720 with 1 Axes>"
      ]
     },
     "metadata": {
      "needs_background": "light"
     },
     "output_type": "display_data"
    }
   ],
   "source": [
    "plt.figure(figsize=(10,10))\n",
    "sns.countplot(x=\"type_of_travel\", data=df);"
   ]
  },
  {
   "cell_type": "markdown",
   "metadata": {},
   "source": [
    "##### Business Travel accounted for more than 70000 customers"
   ]
  },
  {
   "cell_type": "code",
   "execution_count": 18,
   "metadata": {},
   "outputs": [
    {
     "data": {
      "image/png": "[encoded data removed]",
      "text/plain": [
       "<Figure size 720x720 with 1 Axes>"
      ]
     },
     "metadata": {
      "needs_background": "light"
     },
     "output_type": "display_data"
    }
   ],
   "source": [
    "plt.figure(figsize=(10,10))\n",
    "sns.countplot(x=\"class\", data=df);"
   ]
  },
  {
   "cell_type": "markdown",
   "metadata": {},
   "source": [
    "##### Business class was the most preferred and Eco Plus the least preferred"
   ]
  },
  {
   "cell_type": "code",
   "execution_count": 19,
   "metadata": {},
   "outputs": [
    {
     "data": {
      "text/plain": [
       "<AxesSubplot:xlabel='age_split', ylabel='count'>"
      ]
     },
     "execution_count": 19,
     "metadata": {},
     "output_type": "execute_result"
    },
    {
     "data": {
      "image/png": "[encoded data removed]",
      "text/plain": [
       "<Figure size 1440x1080 with 1 Axes>"
      ]
     },
     "metadata": {
      "needs_background": "light"
     },
     "output_type": "display_data"
    }
   ],
   "source": [
    "sns.countplot(data=df, x=\"age_split\")"
   ]
  },
  {
   "cell_type": "markdown",
   "metadata": {},
   "source": [
    "##### The countplot shows that majority of customers were between the ages 20 to 50 (i.e adult)"
   ]
  },
  {
   "cell_type": "code",
   "execution_count": 20,
   "metadata": {},
   "outputs": [
    {
     "data": {
      "image/png": "[encoded data removed]",
      "text/plain": [
       "<Figure size 720x720 with 1 Axes>"
      ]
     },
     "metadata": {
      "needs_background": "light"
     },
     "output_type": "display_data"
    }
   ],
   "source": [
    "plt.figure(figsize=(10,10))\n",
    "sns.countplot(x=\"inflight_wifi_service\", data=df);"
   ]
  },
  {
   "cell_type": "markdown",
   "metadata": {},
   "source": [
    "##### The airline needs to improve the inflight wifi service"
   ]
  },
  {
   "cell_type": "code",
   "execution_count": 21,
   "metadata": {},
   "outputs": [
    {
     "data": {
      "image/png": "[encoded data removed]",
      "text/plain": [
       "<Figure size 720x720 with 1 Axes>"
      ]
     },
     "metadata": {
      "needs_background": "light"
     },
     "output_type": "display_data"
    }
   ],
   "source": [
    "plt.figure(figsize=(10,10))\n",
    "sns.countplot(x=\"ease_of_online_booking\", data=df);"
   ]
  },
  {
   "cell_type": "markdown",
   "metadata": {},
   "source": [
    "##### The airline should work on easing the online booking so it is convenient for customers to book online"
   ]
  },
  {
   "cell_type": "code",
   "execution_count": 22,
   "metadata": {},
   "outputs": [
    {
     "data": {
      "image/png": "[encoded data removed]",
      "text/plain": [
       "<Figure size 720x720 with 1 Axes>"
      ]
     },
     "metadata": {
      "needs_background": "light"
     },
     "output_type": "display_data"
    }
   ],
   "source": [
    "plt.figure(figsize=(10,10))\n",
    "sns.countplot(x=\"food_and_drink\", data=df);"
   ]
  },
  {
   "cell_type": "markdown",
   "metadata": {},
   "source": [
    "##### The majority of the ratings were 3 and below which indicates that the airline should improve the food and drinks quality"
   ]
  },
  {
   "cell_type": "code",
   "execution_count": 23,
   "metadata": {},
   "outputs": [
    {
     "data": {
      "image/png": "[encoded data removed]",
      "text/plain": [
       "<Figure size 720x720 with 1 Axes>"
      ]
     },
     "metadata": {
      "needs_background": "light"
     },
     "output_type": "display_data"
    }
   ],
   "source": [
    "plt.figure(figsize=(10,10))\n",
    "sns.countplot(x=\"online_boarding\", data=df);"
   ]
  },
  {
   "cell_type": "markdown",
   "metadata": {},
   "source": [
    "##### The majority of the ratings were 4 and above which indicates that customers are satisfied with the online boarding system"
   ]
  },
  {
   "cell_type": "code",
   "execution_count": 24,
   "metadata": {},
   "outputs": [
    {
     "data": {
      "image/png": "[encoded data removed]",
      "text/plain": [
       "<Figure size 720x720 with 1 Axes>"
      ]
     },
     "metadata": {
      "needs_background": "light"
     },
     "output_type": "display_data"
    }
   ],
   "source": [
    "plt.figure(figsize=(10,10))\n",
    "sns.countplot(x=\"seat_comfort\", data=df);"
   ]
  },
  {
   "cell_type": "markdown",
   "metadata": {},
   "source": [
    "##### The majority of the ratings were 4 and above which shows that customers are satisfied with the seats"
   ]
  },
  {
   "cell_type": "code",
   "execution_count": 25,
   "metadata": {},
   "outputs": [
    {
     "data": {
      "image/png": "[encoded data removed]",
      "text/plain": [
       "<Figure size 720x720 with 1 Axes>"
      ]
     },
     "metadata": {
      "needs_background": "light"
     },
     "output_type": "display_data"
    }
   ],
   "source": [
    "plt.figure(figsize=(10,10))\n",
    "sns.countplot(x=\"leg_room_service\", data=df);"
   ]
  },
  {
   "cell_type": "markdown",
   "metadata": {},
   "source": [
    "##### The majority of the ratings were 4 and above which shows that customers are satisfied with the leg room service"
   ]
  },
  {
   "cell_type": "code",
   "execution_count": 26,
   "metadata": {},
   "outputs": [
    {
     "data": {
      "image/png": "[encoded data removed]",
      "text/plain": [
       "<Figure size 720x720 with 1 Axes>"
      ]
     },
     "metadata": {
      "needs_background": "light"
     },
     "output_type": "display_data"
    }
   ],
   "source": [
    "plt.figure(figsize=(10,10))\n",
    "sns.countplot(x=\"baggage_handling\", data=df);"
   ]
  },
  {
   "cell_type": "markdown",
   "metadata": {},
   "source": [
    "##### The majority of the ratings were 4 and above which shows that customers are satisfied with the baggage handling service"
   ]
  },
  {
   "cell_type": "code",
   "execution_count": 27,
   "metadata": {},
   "outputs": [
    {
     "data": {
      "image/png": "[encoded data removed]",
      "text/plain": [
       "<Figure size 720x720 with 1 Axes>"
      ]
     },
     "metadata": {
      "needs_background": "light"
     },
     "output_type": "display_data"
    }
   ],
   "source": [
    "plt.figure(figsize=(10,10))\n",
    "sns.countplot(x=\"checkin_service\", data=df);"
   ]
  },
  {
   "cell_type": "markdown",
   "metadata": {},
   "source": [
    "##### The majority of the ratings were 3 and below which shows that customers were not happy with the checkin service"
   ]
  },
  {
   "cell_type": "code",
   "execution_count": 28,
   "metadata": {
    "scrolled": false
   },
   "outputs": [
    {
     "data": {
      "image/png": "[encoded data removed]",
      "text/plain": [
       "<Figure size 720x720 with 1 Axes>"
      ]
     },
     "metadata": {
      "needs_background": "light"
     },
     "output_type": "display_data"
    }
   ],
   "source": [
    "plt.figure(figsize=(10,10))\n",
    "sns.countplot(x=\"cleanliness\", data=df);"
   ]
  },
  {
   "cell_type": "markdown",
   "metadata": {},
   "source": [
    "###### The majority of the ratings were 3 and below which shows that the customers were not satisfied with the cleanliness"
   ]
  },
  {
   "cell_type": "markdown",
   "metadata": {},
   "source": [
    "# 8) Handling Outliers"
   ]
  },
  {
   "cell_type": "markdown",
   "metadata": {},
   "source": [
    "## 8.1) Detecting Outliers"
   ]
  },
  {
   "cell_type": "code",
   "execution_count": 29,
   "metadata": {},
   "outputs": [
    {
     "data": {
      "text/plain": [
       "<AxesSubplot:xlabel='flight_distance'>"
      ]
     },
     "execution_count": 29,
     "metadata": {},
     "output_type": "execute_result"
    },
    {
     "data": {
      "image/png": "[encoded data removed]",
      "text/plain": [
       "<Figure size 360x360 with 1 Axes>"
      ]
     },
     "metadata": {
      "needs_background": "light"
     },
     "output_type": "display_data"
    }
   ],
   "source": [
    "plt.figure(figsize=(5,5))\n",
    "sns.boxplot(x=df[\"flight_distance\"])"
   ]
  },
  {
   "cell_type": "code",
   "execution_count": 30,
   "metadata": {},
   "outputs": [
    {
     "data": {
      "text/plain": [
       "<AxesSubplot:xlabel='departure_delay(mins)'>"
      ]
     },
     "execution_count": 30,
     "metadata": {},
     "output_type": "execute_result"
    },
    {
     "data": {
      "image/png": "[encoded data removed]",
      "text/plain": [
       "<Figure size 360x360 with 1 Axes>"
      ]
     },
     "metadata": {
      "needs_background": "light"
     },
     "output_type": "display_data"
    }
   ],
   "source": [
    "plt.figure(figsize=(5,5))\n",
    "sns.boxplot(x=df[\"departure_delay(mins)\"])"
   ]
  },
  {
   "cell_type": "code",
   "execution_count": 31,
   "metadata": {},
   "outputs": [
    {
     "data": {
      "text/plain": [
       "<AxesSubplot:xlabel='arrival_delay(mins)'>"
      ]
     },
     "execution_count": 31,
     "metadata": {},
     "output_type": "execute_result"
    },
    {
     "data": {
      "image/png": "[encoded data removed]",
      "text/plain": [
       "<Figure size 360x360 with 1 Axes>"
      ]
     },
     "metadata": {
      "needs_background": "light"
     },
     "output_type": "display_data"
    }
   ],
   "source": [
    "plt.figure(figsize=(5,5))\n",
    "sns.boxplot(x=df[\"arrival_delay(mins)\"])"
   ]
  },
  {
   "cell_type": "markdown",
   "metadata": {},
   "source": [
    "## 8.2) Replacing outliers with median"
   ]
  },
  {
   "cell_type": "code",
   "execution_count": 32,
   "metadata": {},
   "outputs": [
    {
     "name": "stdout",
     "output_type": "stream",
     "text": [
      "col: flight_distance, lower: -1579.5, upper: 3736.5,  median_val: 842.0\n",
      "col: departure_delay(mins), lower: -18.0, upper: 30.0,  median_val: 0.0\n",
      "col: arrival_delay(mins), lower: -19.5, upper: 32.5,  median_val: 0.0\n"
     ]
    },
    {
     "data": {
      "text/html": [
       "<div>\n",
       "<style scoped>\n",
       "    .dataframe tbody tr th:only-of-type {\n",
       "        vertical-align: middle;\n",
       "    }\n",
       "\n",
       "    .dataframe tbody tr th {\n",
       "        vertical-align: top;\n",
       "    }\n",
       "\n",
       "    .dataframe thead th {\n",
       "        text-align: right;\n",
       "    }\n",
       "</style>\n",
       "<table border=\"1\" class=\"dataframe\">\n",
       "  <thead>\n",
       "    <tr style=\"text-align: right;\">\n",
       "      <th></th>\n",
       "      <th>count</th>\n",
       "      <th>mean</th>\n",
       "      <th>std</th>\n",
       "      <th>min</th>\n",
       "      <th>25%</th>\n",
       "      <th>50%</th>\n",
       "      <th>75%</th>\n",
       "      <th>max</th>\n",
       "    </tr>\n",
       "  </thead>\n",
       "  <tbody>\n",
       "    <tr>\n",
       "      <th>id</th>\n",
       "      <td>103594.0</td>\n",
       "      <td>64942.428625</td>\n",
       "      <td>37460.816597</td>\n",
       "      <td>1.0</td>\n",
       "      <td>32562.25</td>\n",
       "      <td>64890.0</td>\n",
       "      <td>97370.5</td>\n",
       "      <td>129880.0</td>\n",
       "    </tr>\n",
       "    <tr>\n",
       "      <th>flight_distance</th>\n",
       "      <td>103594.0</td>\n",
       "      <td>1122.105479</td>\n",
       "      <td>911.913616</td>\n",
       "      <td>31.0</td>\n",
       "      <td>414.00</td>\n",
       "      <td>842.0</td>\n",
       "      <td>1620.0</td>\n",
       "      <td>3736.0</td>\n",
       "    </tr>\n",
       "    <tr>\n",
       "      <th>inflight_wifi_service</th>\n",
       "      <td>103594.0</td>\n",
       "      <td>2.729753</td>\n",
       "      <td>1.327866</td>\n",
       "      <td>0.0</td>\n",
       "      <td>2.00</td>\n",
       "      <td>3.0</td>\n",
       "      <td>4.0</td>\n",
       "      <td>5.0</td>\n",
       "    </tr>\n",
       "    <tr>\n",
       "      <th>convenient_departure_arrival_time</th>\n",
       "      <td>103594.0</td>\n",
       "      <td>3.060081</td>\n",
       "      <td>1.525233</td>\n",
       "      <td>0.0</td>\n",
       "      <td>2.00</td>\n",
       "      <td>3.0</td>\n",
       "      <td>4.0</td>\n",
       "      <td>5.0</td>\n",
       "    </tr>\n",
       "    <tr>\n",
       "      <th>ease_of_online_booking</th>\n",
       "      <td>103594.0</td>\n",
       "      <td>2.756984</td>\n",
       "      <td>1.398934</td>\n",
       "      <td>0.0</td>\n",
       "      <td>2.00</td>\n",
       "      <td>3.0</td>\n",
       "      <td>4.0</td>\n",
       "      <td>5.0</td>\n",
       "    </tr>\n",
       "    <tr>\n",
       "      <th>gate_location</th>\n",
       "      <td>103594.0</td>\n",
       "      <td>2.977026</td>\n",
       "      <td>1.277723</td>\n",
       "      <td>0.0</td>\n",
       "      <td>2.00</td>\n",
       "      <td>3.0</td>\n",
       "      <td>4.0</td>\n",
       "      <td>5.0</td>\n",
       "    </tr>\n",
       "    <tr>\n",
       "      <th>food_and_drink</th>\n",
       "      <td>103594.0</td>\n",
       "      <td>3.202126</td>\n",
       "      <td>1.329401</td>\n",
       "      <td>0.0</td>\n",
       "      <td>2.00</td>\n",
       "      <td>3.0</td>\n",
       "      <td>4.0</td>\n",
       "      <td>5.0</td>\n",
       "    </tr>\n",
       "    <tr>\n",
       "      <th>online_boarding</th>\n",
       "      <td>103594.0</td>\n",
       "      <td>3.250497</td>\n",
       "      <td>1.349433</td>\n",
       "      <td>0.0</td>\n",
       "      <td>2.00</td>\n",
       "      <td>3.0</td>\n",
       "      <td>4.0</td>\n",
       "      <td>5.0</td>\n",
       "    </tr>\n",
       "    <tr>\n",
       "      <th>seat_comfort</th>\n",
       "      <td>103594.0</td>\n",
       "      <td>3.439765</td>\n",
       "      <td>1.318896</td>\n",
       "      <td>0.0</td>\n",
       "      <td>2.00</td>\n",
       "      <td>4.0</td>\n",
       "      <td>5.0</td>\n",
       "      <td>5.0</td>\n",
       "    </tr>\n",
       "    <tr>\n",
       "      <th>inflight_entertainment</th>\n",
       "      <td>103594.0</td>\n",
       "      <td>3.358341</td>\n",
       "      <td>1.333030</td>\n",
       "      <td>0.0</td>\n",
       "      <td>2.00</td>\n",
       "      <td>4.0</td>\n",
       "      <td>4.0</td>\n",
       "      <td>5.0</td>\n",
       "    </tr>\n",
       "    <tr>\n",
       "      <th>onboard_service</th>\n",
       "      <td>103594.0</td>\n",
       "      <td>3.382609</td>\n",
       "      <td>1.288284</td>\n",
       "      <td>0.0</td>\n",
       "      <td>2.00</td>\n",
       "      <td>4.0</td>\n",
       "      <td>4.0</td>\n",
       "      <td>5.0</td>\n",
       "    </tr>\n",
       "    <tr>\n",
       "      <th>leg_room_service</th>\n",
       "      <td>103594.0</td>\n",
       "      <td>3.351401</td>\n",
       "      <td>1.315409</td>\n",
       "      <td>0.0</td>\n",
       "      <td>2.00</td>\n",
       "      <td>4.0</td>\n",
       "      <td>4.0</td>\n",
       "      <td>5.0</td>\n",
       "    </tr>\n",
       "    <tr>\n",
       "      <th>baggage_handling</th>\n",
       "      <td>103594.0</td>\n",
       "      <td>3.631687</td>\n",
       "      <td>1.181051</td>\n",
       "      <td>1.0</td>\n",
       "      <td>3.00</td>\n",
       "      <td>4.0</td>\n",
       "      <td>5.0</td>\n",
       "      <td>5.0</td>\n",
       "    </tr>\n",
       "    <tr>\n",
       "      <th>checkin_service</th>\n",
       "      <td>103594.0</td>\n",
       "      <td>3.304323</td>\n",
       "      <td>1.265396</td>\n",
       "      <td>0.0</td>\n",
       "      <td>3.00</td>\n",
       "      <td>3.0</td>\n",
       "      <td>4.0</td>\n",
       "      <td>5.0</td>\n",
       "    </tr>\n",
       "    <tr>\n",
       "      <th>inflight_service</th>\n",
       "      <td>103594.0</td>\n",
       "      <td>3.640761</td>\n",
       "      <td>1.175603</td>\n",
       "      <td>0.0</td>\n",
       "      <td>3.00</td>\n",
       "      <td>4.0</td>\n",
       "      <td>5.0</td>\n",
       "      <td>5.0</td>\n",
       "    </tr>\n",
       "    <tr>\n",
       "      <th>cleanliness</th>\n",
       "      <td>103594.0</td>\n",
       "      <td>3.286397</td>\n",
       "      <td>1.312194</td>\n",
       "      <td>0.0</td>\n",
       "      <td>2.00</td>\n",
       "      <td>3.0</td>\n",
       "      <td>4.0</td>\n",
       "      <td>5.0</td>\n",
       "    </tr>\n",
       "    <tr>\n",
       "      <th>departure_delay(mins)</th>\n",
       "      <td>103594.0</td>\n",
       "      <td>3.199741</td>\n",
       "      <td>6.673729</td>\n",
       "      <td>0.0</td>\n",
       "      <td>0.00</td>\n",
       "      <td>0.0</td>\n",
       "      <td>2.0</td>\n",
       "      <td>30.0</td>\n",
       "    </tr>\n",
       "    <tr>\n",
       "      <th>arrival_delay(mins)</th>\n",
       "      <td>103594.0</td>\n",
       "      <td>3.555447</td>\n",
       "      <td>7.171658</td>\n",
       "      <td>0.0</td>\n",
       "      <td>0.00</td>\n",
       "      <td>0.0</td>\n",
       "      <td>3.0</td>\n",
       "      <td>32.0</td>\n",
       "    </tr>\n",
       "    <tr>\n",
       "      <th>satisfaction</th>\n",
       "      <td>103594.0</td>\n",
       "      <td>0.433394</td>\n",
       "      <td>0.495546</td>\n",
       "      <td>0.0</td>\n",
       "      <td>0.00</td>\n",
       "      <td>0.0</td>\n",
       "      <td>1.0</td>\n",
       "      <td>1.0</td>\n",
       "    </tr>\n",
       "  </tbody>\n",
       "</table>\n",
       "</div>"
      ],
      "text/plain": [
       "                                      count          mean           std   min  \\\n",
       "id                                 103594.0  64942.428625  37460.816597   1.0   \n",
       "flight_distance                    103594.0   1122.105479    911.913616  31.0   \n",
       "inflight_wifi_service              103594.0      2.729753      1.327866   0.0   \n",
       "convenient_departure_arrival_time  103594.0      3.060081      1.525233   0.0   \n",
       "ease_of_online_booking             103594.0      2.756984      1.398934   0.0   \n",
       "gate_location                      103594.0      2.977026      1.277723   0.0   \n",
       "food_and_drink                     103594.0      3.202126      1.329401   0.0   \n",
       "online_boarding                    103594.0      3.250497      1.349433   0.0   \n",
       "seat_comfort                       103594.0      3.439765      1.318896   0.0   \n",
       "inflight_entertainment             103594.0      3.358341      1.333030   0.0   \n",
       "onboard_service                    103594.0      3.382609      1.288284   0.0   \n",
       "leg_room_service                   103594.0      3.351401      1.315409   0.0   \n",
       "baggage_handling                   103594.0      3.631687      1.181051   1.0   \n",
       "checkin_service                    103594.0      3.304323      1.265396   0.0   \n",
       "inflight_service                   103594.0      3.640761      1.175603   0.0   \n",
       "cleanliness                        103594.0      3.286397      1.312194   0.0   \n",
       "departure_delay(mins)              103594.0      3.199741      6.673729   0.0   \n",
       "arrival_delay(mins)                103594.0      3.555447      7.171658   0.0   \n",
       "satisfaction                       103594.0      0.433394      0.495546   0.0   \n",
       "\n",
       "                                        25%      50%      75%       max  \n",
       "id                                 32562.25  64890.0  97370.5  129880.0  \n",
       "flight_distance                      414.00    842.0   1620.0    3736.0  \n",
       "inflight_wifi_service                  2.00      3.0      4.0       5.0  \n",
       "convenient_departure_arrival_time      2.00      3.0      4.0       5.0  \n",
       "ease_of_online_booking                 2.00      3.0      4.0       5.0  \n",
       "gate_location                          2.00      3.0      4.0       5.0  \n",
       "food_and_drink                         2.00      3.0      4.0       5.0  \n",
       "online_boarding                        2.00      3.0      4.0       5.0  \n",
       "seat_comfort                           2.00      4.0      5.0       5.0  \n",
       "inflight_entertainment                 2.00      4.0      4.0       5.0  \n",
       "onboard_service                        2.00      4.0      4.0       5.0  \n",
       "leg_room_service                       2.00      4.0      4.0       5.0  \n",
       "baggage_handling                       3.00      4.0      5.0       5.0  \n",
       "checkin_service                        3.00      3.0      4.0       5.0  \n",
       "inflight_service                       3.00      4.0      5.0       5.0  \n",
       "cleanliness                            2.00      3.0      4.0       5.0  \n",
       "departure_delay(mins)                  0.00      0.0      2.0      30.0  \n",
       "arrival_delay(mins)                    0.00      0.0      3.0      32.0  \n",
       "satisfaction                           0.00      0.0      1.0       1.0  "
      ]
     },
     "execution_count": 32,
     "metadata": {},
     "output_type": "execute_result"
    }
   ],
   "source": [
    "cols_outliers = ['flight_distance','departure_delay(mins)','arrival_delay(mins)'];\n",
    "\n",
    "for col in cols_outliers:\n",
    "    median_val = df[col].quantile(0.50)\n",
    "    percentile_25 = df[col].quantile(0.25)\n",
    "    percentile_75 = df[col].quantile(0.75)\n",
    "    iqr = percentile_75 - percentile_25 # Inter Quartile Range\n",
    "    \n",
    "    # Determine the upper and lower boundaries for outliers\n",
    "    # The lower and upper boundaries are less than the bottom whisker or greater than the top whisker\n",
    "    #cut_off = iqr * 3    # three times IQR - for detecting extreme outliers\n",
    "    cut_off = iqr * 1.5  # normally use 1.5 times IQR\n",
    "    lower, upper = percentile_25 - cut_off, percentile_75 + cut_off\n",
    "    print(f\"col: {col}, lower: {lower}, upper: {upper},  median_val: {median_val}\")\n",
    "    \n",
    "    # Replace all outliers in column with median value\n",
    "    # Replace all values that are less than the lower boundary OR those that are greater than the upper boundary\n",
    "    df[col] = np.where((df[col] < lower) | (df[col] > upper), median_val, df[col])\n",
    " \n",
    "\n",
    "df.describe().T  # T means transpose - will transpose rows to column"
   ]
  },
  {
   "cell_type": "markdown",
   "metadata": {},
   "source": [
    "## 8.3) Analyzing outliers after replacing values with median"
   ]
  },
  {
   "cell_type": "code",
   "execution_count": 33,
   "metadata": {},
   "outputs": [
    {
     "data": {
      "text/plain": [
       "<AxesSubplot:xlabel='flight_distance'>"
      ]
     },
     "execution_count": 33,
     "metadata": {},
     "output_type": "execute_result"
    },
    {
     "data": {
      "image/png": "[encoded data removed]",
      "text/plain": [
       "<Figure size 360x360 with 1 Axes>"
      ]
     },
     "metadata": {
      "needs_background": "light"
     },
     "output_type": "display_data"
    }
   ],
   "source": [
    "plt.figure(figsize=(5,5))\n",
    "sns.boxplot(x=df[\"flight_distance\"])"
   ]
  },
  {
   "cell_type": "code",
   "execution_count": 34,
   "metadata": {},
   "outputs": [
    {
     "data": {
      "text/plain": [
       "<AxesSubplot:xlabel='departure_delay(mins)'>"
      ]
     },
     "execution_count": 34,
     "metadata": {},
     "output_type": "execute_result"
    },
    {
     "data": {
      "image/png": "[encoded data removed]",
      "text/plain": [
       "<Figure size 360x360 with 1 Axes>"
      ]
     },
     "metadata": {
      "needs_background": "light"
     },
     "output_type": "display_data"
    }
   ],
   "source": [
    "plt.figure(figsize=(5,5))\n",
    "sns.boxplot(x=df[\"departure_delay(mins)\"])"
   ]
  },
  {
   "cell_type": "code",
   "execution_count": 35,
   "metadata": {},
   "outputs": [
    {
     "data": {
      "text/plain": [
       "<AxesSubplot:xlabel='arrival_delay(mins)'>"
      ]
     },
     "execution_count": 35,
     "metadata": {},
     "output_type": "execute_result"
    },
    {
     "data": {
      "image/png": "[encoded data removed]",
      "text/plain": [
       "<Figure size 360x360 with 1 Axes>"
      ]
     },
     "metadata": {
      "needs_background": "light"
     },
     "output_type": "display_data"
    }
   ],
   "source": [
    "plt.figure(figsize=(5,5))\n",
    "sns.boxplot(x=df[\"arrival_delay(mins)\"])"
   ]
  },
  {
   "cell_type": "markdown",
   "metadata": {},
   "source": [
    "##### Significant improvement can be observed after dealing with the outliers with the median value."
   ]
  },
  {
   "cell_type": "markdown",
   "metadata": {},
   "source": [
    "##### Dropping id column as it is irrelevant to the ML model"
   ]
  },
  {
   "cell_type": "code",
   "execution_count": 36,
   "metadata": {},
   "outputs": [],
   "source": [
    "df.drop('id',axis=1,inplace=True);"
   ]
  },
  {
   "cell_type": "markdown",
   "metadata": {},
   "source": [
    "# 9) Split the data into training and testing set"
   ]
  },
  {
   "cell_type": "code",
   "execution_count": 37,
   "metadata": {},
   "outputs": [],
   "source": [
    "cols = ['gender','customer_type','age_split','type_of_travel','class','flight_distance','inflight_wifi_service','convenient_departure_arrival_time',\n",
    "        'ease_of_online_booking','gate_location','food_and_drink','online_boarding','seat_comfort',\n",
    "        'inflight_entertainment','onboard_service','leg_room_service','baggage_handling',\n",
    "        'checkin_service','inflight_service','cleanliness','departure_delay(mins)','arrival_delay(mins)'];\n",
    "\n",
    "X=df[cols];\n",
    "y=df['satisfaction']\n",
    "\n",
    "X_train, X_test, y_train, y_test = train_test_split(X,y,test_size=0.2,random_state=0)"
   ]
  },
  {
   "cell_type": "code",
   "execution_count": 38,
   "metadata": {},
   "outputs": [
    {
     "name": "stdout",
     "output_type": "stream",
     "text": [
      "(82875, 22)\n",
      "(82875,)\n",
      "(20719, 22)\n",
      "(20719,)\n"
     ]
    }
   ],
   "source": [
    "print(X_train.shape)\n",
    "print(y_train.shape)\n",
    "print(X_test.shape)\n",
    "print(y_test.shape)"
   ]
  },
  {
   "cell_type": "code",
   "execution_count": 39,
   "metadata": {},
   "outputs": [
    {
     "data": {
      "text/plain": [
       "gender                                object\n",
       "customer_type                         object\n",
       "age_split                             object\n",
       "type_of_travel                        object\n",
       "class                                 object\n",
       "flight_distance                      float64\n",
       "inflight_wifi_service                  int64\n",
       "convenient_departure_arrival_time      int64\n",
       "ease_of_online_booking                 int64\n",
       "gate_location                          int64\n",
       "food_and_drink                         int64\n",
       "online_boarding                        int64\n",
       "seat_comfort                           int64\n",
       "inflight_entertainment                 int64\n",
       "onboard_service                        int64\n",
       "leg_room_service                       int64\n",
       "baggage_handling                       int64\n",
       "checkin_service                        int64\n",
       "inflight_service                       int64\n",
       "cleanliness                            int64\n",
       "departure_delay(mins)                float64\n",
       "arrival_delay(mins)                  float64\n",
       "dtype: object"
      ]
     },
     "execution_count": 39,
     "metadata": {},
     "output_type": "execute_result"
    }
   ],
   "source": [
    "X_train.dtypes"
   ]
  },
  {
   "cell_type": "markdown",
   "metadata": {},
   "source": [
    "## "
   ]
  },
  {
   "cell_type": "code",
   "execution_count": 40,
   "metadata": {},
   "outputs": [
    {
     "data": {
      "text/html": [
       "<div>\n",
       "<style scoped>\n",
       "    .dataframe tbody tr th:only-of-type {\n",
       "        vertical-align: middle;\n",
       "    }\n",
       "\n",
       "    .dataframe tbody tr th {\n",
       "        vertical-align: top;\n",
       "    }\n",
       "\n",
       "    .dataframe thead th {\n",
       "        text-align: right;\n",
       "    }\n",
       "</style>\n",
       "<table border=\"1\" class=\"dataframe\">\n",
       "  <thead>\n",
       "    <tr style=\"text-align: right;\">\n",
       "      <th></th>\n",
       "      <th>gender</th>\n",
       "      <th>customer_type</th>\n",
       "      <th>age_split</th>\n",
       "      <th>type_of_travel</th>\n",
       "      <th>class</th>\n",
       "      <th>flight_distance</th>\n",
       "      <th>inflight_wifi_service</th>\n",
       "      <th>convenient_departure_arrival_time</th>\n",
       "      <th>ease_of_online_booking</th>\n",
       "      <th>gate_location</th>\n",
       "      <th>...</th>\n",
       "      <th>seat_comfort</th>\n",
       "      <th>inflight_entertainment</th>\n",
       "      <th>onboard_service</th>\n",
       "      <th>leg_room_service</th>\n",
       "      <th>baggage_handling</th>\n",
       "      <th>checkin_service</th>\n",
       "      <th>inflight_service</th>\n",
       "      <th>cleanliness</th>\n",
       "      <th>departure_delay(mins)</th>\n",
       "      <th>arrival_delay(mins)</th>\n",
       "    </tr>\n",
       "  </thead>\n",
       "  <tbody>\n",
       "    <tr>\n",
       "      <th>18280</th>\n",
       "      <td>Male</td>\n",
       "      <td>Loyal Customer</td>\n",
       "      <td>old</td>\n",
       "      <td>Business travel</td>\n",
       "      <td>Eco Plus</td>\n",
       "      <td>334.0</td>\n",
       "      <td>3</td>\n",
       "      <td>3</td>\n",
       "      <td>3</td>\n",
       "      <td>3</td>\n",
       "      <td>...</td>\n",
       "      <td>3</td>\n",
       "      <td>3</td>\n",
       "      <td>1</td>\n",
       "      <td>4</td>\n",
       "      <td>4</td>\n",
       "      <td>2</td>\n",
       "      <td>3</td>\n",
       "      <td>3</td>\n",
       "      <td>0.0</td>\n",
       "      <td>0.0</td>\n",
       "    </tr>\n",
       "    <tr>\n",
       "      <th>14167</th>\n",
       "      <td>Male</td>\n",
       "      <td>Loyal Customer</td>\n",
       "      <td>young</td>\n",
       "      <td>Personal Travel</td>\n",
       "      <td>Eco</td>\n",
       "      <td>89.0</td>\n",
       "      <td>2</td>\n",
       "      <td>5</td>\n",
       "      <td>2</td>\n",
       "      <td>3</td>\n",
       "      <td>...</td>\n",
       "      <td>4</td>\n",
       "      <td>4</td>\n",
       "      <td>4</td>\n",
       "      <td>3</td>\n",
       "      <td>5</td>\n",
       "      <td>4</td>\n",
       "      <td>5</td>\n",
       "      <td>4</td>\n",
       "      <td>0.0</td>\n",
       "      <td>7.0</td>\n",
       "    </tr>\n",
       "    <tr>\n",
       "      <th>97853</th>\n",
       "      <td>Female</td>\n",
       "      <td>Loyal Customer</td>\n",
       "      <td>old</td>\n",
       "      <td>Business travel</td>\n",
       "      <td>Business</td>\n",
       "      <td>1127.0</td>\n",
       "      <td>3</td>\n",
       "      <td>3</td>\n",
       "      <td>2</td>\n",
       "      <td>3</td>\n",
       "      <td>...</td>\n",
       "      <td>4</td>\n",
       "      <td>5</td>\n",
       "      <td>5</td>\n",
       "      <td>5</td>\n",
       "      <td>5</td>\n",
       "      <td>3</td>\n",
       "      <td>5</td>\n",
       "      <td>4</td>\n",
       "      <td>1.0</td>\n",
       "      <td>0.0</td>\n",
       "    </tr>\n",
       "    <tr>\n",
       "      <th>22012</th>\n",
       "      <td>Male</td>\n",
       "      <td>Loyal Customer</td>\n",
       "      <td>adult</td>\n",
       "      <td>Business travel</td>\n",
       "      <td>Business</td>\n",
       "      <td>239.0</td>\n",
       "      <td>1</td>\n",
       "      <td>1</td>\n",
       "      <td>1</td>\n",
       "      <td>1</td>\n",
       "      <td>...</td>\n",
       "      <td>4</td>\n",
       "      <td>4</td>\n",
       "      <td>4</td>\n",
       "      <td>4</td>\n",
       "      <td>4</td>\n",
       "      <td>3</td>\n",
       "      <td>4</td>\n",
       "      <td>5</td>\n",
       "      <td>0.0</td>\n",
       "      <td>0.0</td>\n",
       "    </tr>\n",
       "    <tr>\n",
       "      <th>71365</th>\n",
       "      <td>Female</td>\n",
       "      <td>Loyal Customer</td>\n",
       "      <td>old</td>\n",
       "      <td>Business travel</td>\n",
       "      <td>Business</td>\n",
       "      <td>2300.0</td>\n",
       "      <td>5</td>\n",
       "      <td>5</td>\n",
       "      <td>5</td>\n",
       "      <td>5</td>\n",
       "      <td>...</td>\n",
       "      <td>5</td>\n",
       "      <td>3</td>\n",
       "      <td>3</td>\n",
       "      <td>4</td>\n",
       "      <td>3</td>\n",
       "      <td>5</td>\n",
       "      <td>3</td>\n",
       "      <td>5</td>\n",
       "      <td>23.0</td>\n",
       "      <td>15.0</td>\n",
       "    </tr>\n",
       "  </tbody>\n",
       "</table>\n",
       "<p>5 rows × 22 columns</p>\n",
       "</div>"
      ],
      "text/plain": [
       "       gender   customer_type age_split   type_of_travel     class  \\\n",
       "18280    Male  Loyal Customer       old  Business travel  Eco Plus   \n",
       "14167    Male  Loyal Customer     young  Personal Travel       Eco   \n",
       "97853  Female  Loyal Customer       old  Business travel  Business   \n",
       "22012    Male  Loyal Customer     adult  Business travel  Business   \n",
       "71365  Female  Loyal Customer       old  Business travel  Business   \n",
       "\n",
       "       flight_distance  inflight_wifi_service  \\\n",
       "18280            334.0                      3   \n",
       "14167             89.0                      2   \n",
       "97853           1127.0                      3   \n",
       "22012            239.0                      1   \n",
       "71365           2300.0                      5   \n",
       "\n",
       "       convenient_departure_arrival_time  ease_of_online_booking  \\\n",
       "18280                                  3                       3   \n",
       "14167                                  5                       2   \n",
       "97853                                  3                       2   \n",
       "22012                                  1                       1   \n",
       "71365                                  5                       5   \n",
       "\n",
       "       gate_location  ...  seat_comfort  inflight_entertainment  \\\n",
       "18280              3  ...             3                       3   \n",
       "14167              3  ...             4                       4   \n",
       "97853              3  ...             4                       5   \n",
       "22012              1  ...             4                       4   \n",
       "71365              5  ...             5                       3   \n",
       "\n",
       "       onboard_service  leg_room_service  baggage_handling  checkin_service  \\\n",
       "18280                1                 4                 4                2   \n",
       "14167                4                 3                 5                4   \n",
       "97853                5                 5                 5                3   \n",
       "22012                4                 4                 4                3   \n",
       "71365                3                 4                 3                5   \n",
       "\n",
       "       inflight_service  cleanliness  departure_delay(mins)  \\\n",
       "18280                 3            3                    0.0   \n",
       "14167                 5            4                    0.0   \n",
       "97853                 5            4                    1.0   \n",
       "22012                 4            5                    0.0   \n",
       "71365                 3            5                   23.0   \n",
       "\n",
       "       arrival_delay(mins)  \n",
       "18280                  0.0  \n",
       "14167                  7.0  \n",
       "97853                  0.0  \n",
       "22012                  0.0  \n",
       "71365                 15.0  \n",
       "\n",
       "[5 rows x 22 columns]"
      ]
     },
     "execution_count": 40,
     "metadata": {},
     "output_type": "execute_result"
    }
   ],
   "source": [
    "X_train.head()"
   ]
  },
  {
   "cell_type": "markdown",
   "metadata": {},
   "source": [
    "# 10) Encoding Categorical Variables"
   ]
  },
  {
   "cell_type": "markdown",
   "metadata": {},
   "source": [
    "## 10.1) Label Encoding Categorical Variables"
   ]
  },
  {
   "cell_type": "code",
   "execution_count": 41,
   "metadata": {},
   "outputs": [
    {
     "data": {
      "text/html": [
       "<div>\n",
       "<style scoped>\n",
       "    .dataframe tbody tr th:only-of-type {\n",
       "        vertical-align: middle;\n",
       "    }\n",
       "\n",
       "    .dataframe tbody tr th {\n",
       "        vertical-align: top;\n",
       "    }\n",
       "\n",
       "    .dataframe thead th {\n",
       "        text-align: right;\n",
       "    }\n",
       "</style>\n",
       "<table border=\"1\" class=\"dataframe\">\n",
       "  <thead>\n",
       "    <tr style=\"text-align: right;\">\n",
       "      <th></th>\n",
       "      <th>gender</th>\n",
       "      <th>customer_type</th>\n",
       "      <th>age_split</th>\n",
       "      <th>type_of_travel</th>\n",
       "      <th>class</th>\n",
       "      <th>flight_distance</th>\n",
       "      <th>inflight_wifi_service</th>\n",
       "      <th>convenient_departure_arrival_time</th>\n",
       "      <th>ease_of_online_booking</th>\n",
       "      <th>gate_location</th>\n",
       "      <th>...</th>\n",
       "      <th>seat_comfort</th>\n",
       "      <th>inflight_entertainment</th>\n",
       "      <th>onboard_service</th>\n",
       "      <th>leg_room_service</th>\n",
       "      <th>baggage_handling</th>\n",
       "      <th>checkin_service</th>\n",
       "      <th>inflight_service</th>\n",
       "      <th>cleanliness</th>\n",
       "      <th>departure_delay(mins)</th>\n",
       "      <th>arrival_delay(mins)</th>\n",
       "    </tr>\n",
       "  </thead>\n",
       "  <tbody>\n",
       "    <tr>\n",
       "      <th>18280</th>\n",
       "      <td>Male</td>\n",
       "      <td>Loyal Customer</td>\n",
       "      <td>1</td>\n",
       "      <td>Business travel</td>\n",
       "      <td>2</td>\n",
       "      <td>334.0</td>\n",
       "      <td>3</td>\n",
       "      <td>3</td>\n",
       "      <td>3</td>\n",
       "      <td>3</td>\n",
       "      <td>...</td>\n",
       "      <td>3</td>\n",
       "      <td>3</td>\n",
       "      <td>1</td>\n",
       "      <td>4</td>\n",
       "      <td>4</td>\n",
       "      <td>2</td>\n",
       "      <td>3</td>\n",
       "      <td>3</td>\n",
       "      <td>0.0</td>\n",
       "      <td>0.0</td>\n",
       "    </tr>\n",
       "    <tr>\n",
       "      <th>14167</th>\n",
       "      <td>Male</td>\n",
       "      <td>Loyal Customer</td>\n",
       "      <td>2</td>\n",
       "      <td>Personal Travel</td>\n",
       "      <td>1</td>\n",
       "      <td>89.0</td>\n",
       "      <td>2</td>\n",
       "      <td>5</td>\n",
       "      <td>2</td>\n",
       "      <td>3</td>\n",
       "      <td>...</td>\n",
       "      <td>4</td>\n",
       "      <td>4</td>\n",
       "      <td>4</td>\n",
       "      <td>3</td>\n",
       "      <td>5</td>\n",
       "      <td>4</td>\n",
       "      <td>5</td>\n",
       "      <td>4</td>\n",
       "      <td>0.0</td>\n",
       "      <td>7.0</td>\n",
       "    </tr>\n",
       "    <tr>\n",
       "      <th>97853</th>\n",
       "      <td>Female</td>\n",
       "      <td>Loyal Customer</td>\n",
       "      <td>1</td>\n",
       "      <td>Business travel</td>\n",
       "      <td>0</td>\n",
       "      <td>1127.0</td>\n",
       "      <td>3</td>\n",
       "      <td>3</td>\n",
       "      <td>2</td>\n",
       "      <td>3</td>\n",
       "      <td>...</td>\n",
       "      <td>4</td>\n",
       "      <td>5</td>\n",
       "      <td>5</td>\n",
       "      <td>5</td>\n",
       "      <td>5</td>\n",
       "      <td>3</td>\n",
       "      <td>5</td>\n",
       "      <td>4</td>\n",
       "      <td>1.0</td>\n",
       "      <td>0.0</td>\n",
       "    </tr>\n",
       "    <tr>\n",
       "      <th>22012</th>\n",
       "      <td>Male</td>\n",
       "      <td>Loyal Customer</td>\n",
       "      <td>0</td>\n",
       "      <td>Business travel</td>\n",
       "      <td>0</td>\n",
       "      <td>239.0</td>\n",
       "      <td>1</td>\n",
       "      <td>1</td>\n",
       "      <td>1</td>\n",
       "      <td>1</td>\n",
       "      <td>...</td>\n",
       "      <td>4</td>\n",
       "      <td>4</td>\n",
       "      <td>4</td>\n",
       "      <td>4</td>\n",
       "      <td>4</td>\n",
       "      <td>3</td>\n",
       "      <td>4</td>\n",
       "      <td>5</td>\n",
       "      <td>0.0</td>\n",
       "      <td>0.0</td>\n",
       "    </tr>\n",
       "    <tr>\n",
       "      <th>71365</th>\n",
       "      <td>Female</td>\n",
       "      <td>Loyal Customer</td>\n",
       "      <td>1</td>\n",
       "      <td>Business travel</td>\n",
       "      <td>0</td>\n",
       "      <td>2300.0</td>\n",
       "      <td>5</td>\n",
       "      <td>5</td>\n",
       "      <td>5</td>\n",
       "      <td>5</td>\n",
       "      <td>...</td>\n",
       "      <td>5</td>\n",
       "      <td>3</td>\n",
       "      <td>3</td>\n",
       "      <td>4</td>\n",
       "      <td>3</td>\n",
       "      <td>5</td>\n",
       "      <td>3</td>\n",
       "      <td>5</td>\n",
       "      <td>23.0</td>\n",
       "      <td>15.0</td>\n",
       "    </tr>\n",
       "  </tbody>\n",
       "</table>\n",
       "<p>5 rows × 22 columns</p>\n",
       "</div>"
      ],
      "text/plain": [
       "       gender   customer_type  age_split   type_of_travel  class  \\\n",
       "18280    Male  Loyal Customer          1  Business travel      2   \n",
       "14167    Male  Loyal Customer          2  Personal Travel      1   \n",
       "97853  Female  Loyal Customer          1  Business travel      0   \n",
       "22012    Male  Loyal Customer          0  Business travel      0   \n",
       "71365  Female  Loyal Customer          1  Business travel      0   \n",
       "\n",
       "       flight_distance  inflight_wifi_service  \\\n",
       "18280            334.0                      3   \n",
       "14167             89.0                      2   \n",
       "97853           1127.0                      3   \n",
       "22012            239.0                      1   \n",
       "71365           2300.0                      5   \n",
       "\n",
       "       convenient_departure_arrival_time  ease_of_online_booking  \\\n",
       "18280                                  3                       3   \n",
       "14167                                  5                       2   \n",
       "97853                                  3                       2   \n",
       "22012                                  1                       1   \n",
       "71365                                  5                       5   \n",
       "\n",
       "       gate_location  ...  seat_comfort  inflight_entertainment  \\\n",
       "18280              3  ...             3                       3   \n",
       "14167              3  ...             4                       4   \n",
       "97853              3  ...             4                       5   \n",
       "22012              1  ...             4                       4   \n",
       "71365              5  ...             5                       3   \n",
       "\n",
       "       onboard_service  leg_room_service  baggage_handling  checkin_service  \\\n",
       "18280                1                 4                 4                2   \n",
       "14167                4                 3                 5                4   \n",
       "97853                5                 5                 5                3   \n",
       "22012                4                 4                 4                3   \n",
       "71365                3                 4                 3                5   \n",
       "\n",
       "       inflight_service  cleanliness  departure_delay(mins)  \\\n",
       "18280                 3            3                    0.0   \n",
       "14167                 5            4                    0.0   \n",
       "97853                 5            4                    1.0   \n",
       "22012                 4            5                    0.0   \n",
       "71365                 3            5                   23.0   \n",
       "\n",
       "       arrival_delay(mins)  \n",
       "18280                  0.0  \n",
       "14167                  7.0  \n",
       "97853                  0.0  \n",
       "22012                  0.0  \n",
       "71365                 15.0  \n",
       "\n",
       "[5 rows x 22 columns]"
      ]
     },
     "execution_count": 41,
     "metadata": {},
     "output_type": "execute_result"
    }
   ],
   "source": [
    "cols_to_encode = ['class','age_split'];\n",
    "\n",
    "X_train = X_train.copy()\n",
    "X_test = X_test.copy()\n",
    "\n",
    "# 3. Instantiate a LabelEncoder\n",
    "encoder = LabelEncoder()\n",
    "\n",
    "# 4. Fit the encoder on the training column and transform the training and testing columns\n",
    "# Use a loop to label encode all the required columns \n",
    "for col in cols_to_encode:\n",
    "    # First fit the encoder to the training data\n",
    "    encoder.fit(X_train[col])\n",
    "    # Then transform both the training and the testing sets\n",
    "    X_train[col] = encoder.transform(X_train[col])\n",
    "    X_test[col] = encoder.transform(X_test[col])\n",
    "\n",
    "# Check\n",
    "X_train.head()"
   ]
  },
  {
   "cell_type": "code",
   "execution_count": 42,
   "metadata": {},
   "outputs": [
    {
     "data": {
      "text/plain": [
       "gender                                  2\n",
       "customer_type                           2\n",
       "age_split                               3\n",
       "type_of_travel                          2\n",
       "class                                   3\n",
       "flight_distance                      3502\n",
       "inflight_wifi_service                   6\n",
       "convenient_departure_arrival_time       6\n",
       "ease_of_online_booking                  6\n",
       "gate_location                           6\n",
       "food_and_drink                          6\n",
       "online_boarding                         6\n",
       "seat_comfort                            6\n",
       "inflight_entertainment                  6\n",
       "onboard_service                         6\n",
       "leg_room_service                        6\n",
       "baggage_handling                        5\n",
       "checkin_service                         6\n",
       "inflight_service                        6\n",
       "cleanliness                             6\n",
       "departure_delay(mins)                  31\n",
       "arrival_delay(mins)                    33\n",
       "dtype: int64"
      ]
     },
     "execution_count": 42,
     "metadata": {},
     "output_type": "execute_result"
    }
   ],
   "source": [
    "X_train.nunique()"
   ]
  },
  {
   "cell_type": "markdown",
   "metadata": {},
   "source": [
    "## 10.2) One-hot encoding Categorical Variables"
   ]
  },
  {
   "cell_type": "code",
   "execution_count": 43,
   "metadata": {},
   "outputs": [],
   "source": [
    "cols_to_onehotencode= ['gender','customer_type','type_of_travel']\n",
    "\n",
    "enc = LabelBinarizer()\n",
    "\n",
    "# 3. Fit the encoder on the training column and transform the training and testing columns\n",
    "# Use a loop to label encode all the required columns \n",
    "for col in cols_to_onehotencode:\n",
    "    # Option 1. Using pandas (simpler than sklearn)\n",
    "    ## Fix X_train\n",
    "    dummies_df = pd.get_dummies(X_train[col]) # generate dataframe of dummies\n",
    "    X_train.drop([col], axis=1, inplace=True) # drop original column\n",
    "    X_train = pd.concat([X_train, dummies_df], axis=1) # concatenate both dataframes\n",
    "    ## Fix X_test\n",
    "    dummies_df = pd.get_dummies(X_test[col])\n",
    "    X_test.drop([col], axis=1, inplace=True)\n",
    "    X_test = pd.concat([X_test, dummies_df], axis=1)"
   ]
  },
  {
   "cell_type": "code",
   "execution_count": 44,
   "metadata": {},
   "outputs": [
    {
     "data": {
      "text/plain": [
       "age_split                              int32\n",
       "class                                  int32\n",
       "flight_distance                      float64\n",
       "inflight_wifi_service                  int64\n",
       "convenient_departure_arrival_time      int64\n",
       "ease_of_online_booking                 int64\n",
       "gate_location                          int64\n",
       "food_and_drink                         int64\n",
       "online_boarding                        int64\n",
       "seat_comfort                           int64\n",
       "inflight_entertainment                 int64\n",
       "onboard_service                        int64\n",
       "leg_room_service                       int64\n",
       "baggage_handling                       int64\n",
       "checkin_service                        int64\n",
       "inflight_service                       int64\n",
       "cleanliness                            int64\n",
       "departure_delay(mins)                float64\n",
       "arrival_delay(mins)                  float64\n",
       "Female                                 uint8\n",
       "Male                                   uint8\n",
       "Disloyal Customer                      uint8\n",
       "Loyal Customer                         uint8\n",
       "Business travel                        uint8\n",
       "Personal Travel                        uint8\n",
       "dtype: object"
      ]
     },
     "execution_count": 44,
     "metadata": {},
     "output_type": "execute_result"
    }
   ],
   "source": [
    "X_train.dtypes"
   ]
  },
  {
   "cell_type": "markdown",
   "metadata": {},
   "source": [
    "#### Fixing the types of features"
   ]
  },
  {
   "cell_type": "code",
   "execution_count": 45,
   "metadata": {},
   "outputs": [],
   "source": [
    "X_train['age_split']=X_train['age_split'].astype('float64')\n",
    "X_train['class']=X_train['class'].astype('float64')\n",
    "X_train['Female']=X_train['Female'].astype('float64')\n",
    "X_train['Male']=X_train['Male'].astype('float64')\n",
    "X_train['Disloyal Customer']=X_train['Disloyal Customer'].astype('float64')\n",
    "X_train['Loyal Customer']=X_train['Loyal Customer'].astype('float64')\n",
    "X_train['Business travel']=X_train['Business travel'].astype('float64')\n",
    "X_train['Personal Travel']=X_train['Personal Travel'].astype('float64')\n",
    "\n",
    "X_test['Male']=X_test['Male'].astype('float64')\n",
    "X_test['Female']=X_test['Female'].astype('float64')\n",
    "X_test['age_split']=X_test['age_split'].astype('float64')\n",
    "X_test['class']=X_test['class'].astype('float64')\n",
    "X_test['Disloyal Customer']=X_test['Disloyal Customer'].astype('float64')\n",
    "X_test['Loyal Customer']=X_test['Loyal Customer'].astype('float64')\n",
    "X_test['Business travel']=X_test['Business travel'].astype('float64')\n",
    "X_test['Personal Travel']=X_test['Personal Travel'].astype('float64')"
   ]
  },
  {
   "cell_type": "code",
   "execution_count": 46,
   "metadata": {},
   "outputs": [
    {
     "name": "stdout",
     "output_type": "stream",
     "text": [
      "(82875, 25)\n",
      "(82875,)\n",
      "(20719, 25)\n",
      "(20719,)\n"
     ]
    }
   ],
   "source": [
    "print(X_train.shape)\n",
    "print(y_train.shape)\n",
    "print(X_test.shape)\n",
    "print(y_test.shape)"
   ]
  },
  {
   "cell_type": "code",
   "execution_count": 47,
   "metadata": {},
   "outputs": [
    {
     "data": {
      "text/plain": [
       "age_split                            float64\n",
       "class                                float64\n",
       "flight_distance                      float64\n",
       "inflight_wifi_service                  int64\n",
       "convenient_departure_arrival_time      int64\n",
       "ease_of_online_booking                 int64\n",
       "gate_location                          int64\n",
       "food_and_drink                         int64\n",
       "online_boarding                        int64\n",
       "seat_comfort                           int64\n",
       "inflight_entertainment                 int64\n",
       "onboard_service                        int64\n",
       "leg_room_service                       int64\n",
       "baggage_handling                       int64\n",
       "checkin_service                        int64\n",
       "inflight_service                       int64\n",
       "cleanliness                            int64\n",
       "departure_delay(mins)                float64\n",
       "arrival_delay(mins)                  float64\n",
       "Female                               float64\n",
       "Male                                 float64\n",
       "Disloyal Customer                    float64\n",
       "Loyal Customer                       float64\n",
       "Business travel                      float64\n",
       "Personal Travel                      float64\n",
       "dtype: object"
      ]
     },
     "execution_count": 47,
     "metadata": {},
     "output_type": "execute_result"
    }
   ],
   "source": [
    "X_train.dtypes"
   ]
  },
  {
   "cell_type": "markdown",
   "metadata": {},
   "source": [
    "# 11) Feature Selection"
   ]
  },
  {
   "cell_type": "code",
   "execution_count": 48,
   "metadata": {},
   "outputs": [
    {
     "data": {
      "text/plain": [
       "(82875, 25)"
      ]
     },
     "execution_count": 48,
     "metadata": {},
     "output_type": "execute_result"
    }
   ],
   "source": [
    "X_train.shape"
   ]
  },
  {
   "cell_type": "code",
   "execution_count": 49,
   "metadata": {},
   "outputs": [
    {
     "name": "stdout",
     "output_type": "stream",
     "text": [
      "                  Features         Score\n",
      "2          flight_distance  4.686110e+06\n",
      "8          online_boarding  1.172441e+04\n",
      "24         Personal Travel  1.152920e+04\n",
      "1                    class  1.091310e+04\n",
      "10  inflight_entertainment  6.926368e+03\n",
      "18     arrival_delay(mins)  5.438081e+03\n",
      "23         Business travel  5.182635e+03\n",
      "9             seat_comfort  5.129230e+03\n",
      "3    inflight_wifi_service  4.244636e+03\n",
      "11         onboard_service  4.193382e+03\n",
      "12        leg_room_service  4.137709e+03\n",
      "16             cleanliness  4.030772e+03\n",
      "21       Disloyal Customer  2.377021e+03\n",
      "14         checkin_service  2.204988e+03\n",
      "7           food_and_drink  2.008966e+03\n"
     ]
    }
   ],
   "source": [
    "cols1 = ['age_split','class','flight_distance','inflight_wifi_service','convenient_departure_arrival_time',\n",
    "        'ease_of_online_booking','gate_location','food_and_drink','online_boarding','seat_comfort',\n",
    "        'inflight_entertainment','onboard_service','leg_room_service','baggage_handling',\n",
    "        'checkin_service','inflight_service','cleanliness','departure_delay(mins)','arrival_delay(mins)','Female'\n",
    "        ,'Male','Disloyal Customer','Loyal Customer','Business travel','Personal Travel']\n",
    "\n",
    "X=X_train[cols1];\n",
    "\n",
    "top_features = SelectKBest(score_func=chi2, k=15).fit(X[cols1],y_train)\n",
    "df_scores = pd.DataFrame(top_features.scores_)\n",
    "df_columns = pd.DataFrame(X.columns)\n",
    "\n",
    "featureScores = pd.concat([df_columns,df_scores],axis=1)\n",
    "featureScores.columns = ['Features','Score']  #naming the dataframe columns\n",
    "print(featureScores.nlargest(15,'Score'))"
   ]
  },
  {
   "cell_type": "markdown",
   "metadata": {},
   "source": [
    "##### Using feature selection, I have shortlisted top 15 features out of 25, the remaining 10 columns will be dropped"
   ]
  },
  {
   "cell_type": "markdown",
   "metadata": {},
   "source": [
    "## 12) Data Cleaning"
   ]
  },
  {
   "cell_type": "code",
   "execution_count": 50,
   "metadata": {},
   "outputs": [],
   "source": [
    "X_train.drop(['age_split','convenient_departure_arrival_time','ease_of_online_booking','gate_location',\n",
    "              'baggage_handling','inflight_service','departure_delay(mins)','Female','Male','Loyal Customer'],axis=1,\n",
    "            inplace=True);\n",
    "X_test.drop(['age_split','convenient_departure_arrival_time','ease_of_online_booking','gate_location',\n",
    "              'baggage_handling','inflight_service','departure_delay(mins)','Female','Male','Loyal Customer'],axis=1,\n",
    "            inplace=True);\n",
    "\n"
   ]
  },
  {
   "cell_type": "code",
   "execution_count": 51,
   "metadata": {},
   "outputs": [
    {
     "name": "stdout",
     "output_type": "stream",
     "text": [
      "(82875, 15)\n",
      "(82875,)\n",
      "(20719, 15)\n",
      "(20719,)\n"
     ]
    }
   ],
   "source": [
    "print(X_train.shape)\n",
    "print(y_train.shape)\n",
    "print(X_test.shape)\n",
    "print(y_test.shape)"
   ]
  },
  {
   "cell_type": "markdown",
   "metadata": {},
   "source": [
    "# 13) ML Model"
   ]
  },
  {
   "cell_type": "markdown",
   "metadata": {},
   "source": [
    "## 13.1) Optimizing Random Forest"
   ]
  },
  {
   "cell_type": "code",
   "execution_count": 52,
   "metadata": {},
   "outputs": [
    {
     "name": "stdout",
     "output_type": "stream",
     "text": [
      "Best params: {'criterion': 'gini', 'n_estimators': 8}, score: 0.94\n"
     ]
    }
   ],
   "source": [
    "param_grid = [\n",
    "              {\"criterion\": [\"gini\", \"entropy\"], \"n_estimators\": range(1, 10)}\n",
    "             ]\n",
    "\n",
    "# Instantiate a grid search object and fit it to the training data\n",
    "clf = RandomForestClassifier()\n",
    "grid = GridSearchCV(clf, param_grid, verbose=0, cv=5, scoring='f1')\n",
    "grid.fit(X_train, y_train)\n",
    "print(f\"Best params: {grid.best_params_}, score: {grid.best_score_:0.2f}\")"
   ]
  },
  {
   "cell_type": "markdown",
   "metadata": {},
   "source": [
    "## 13.2) Train, fit and Predict using Random Forest"
   ]
  },
  {
   "cell_type": "code",
   "execution_count": 53,
   "metadata": {},
   "outputs": [],
   "source": [
    "rfc = RandomForestClassifier(criterion= 'gini', n_estimators= 9).fit(X_train,y_train);\n",
    "y_pred = rfc.predict(X_test)"
   ]
  },
  {
   "cell_type": "markdown",
   "metadata": {},
   "source": [
    "## 13.3) Evaluation Metrics for Random Forest"
   ]
  },
  {
   "cell_type": "code",
   "execution_count": 54,
   "metadata": {},
   "outputs": [
    {
     "name": "stdout",
     "output_type": "stream",
     "text": [
      "True: [1 1 0 0 0 0 0 0 0 1 0 1 0 1 0 0 1 0 0 1 1 0 1 0 0]\n",
      "Pred: [1 1 0 0 0 0 0 0 0 1 0 1 0 1 0 0 1 0 0 1 1 0 1 0 0]\n",
      "classification_accuracy: 0.9446884502147787\n",
      "              precision    recall  f1-score   support\n",
      "\n",
      "           0       0.94      0.96      0.95     11720\n",
      "           1       0.95      0.92      0.94      8999\n",
      "\n",
      "    accuracy                           0.94     20719\n",
      "   macro avg       0.94      0.94      0.94     20719\n",
      "weighted avg       0.94      0.94      0.94     20719\n",
      "\n"
     ]
    }
   ],
   "source": [
    "print('True:', y_test.values[0:25])\n",
    "print('Pred:', y_pred[0:25])\n",
    "\n",
    "classification_accuracy = accuracy_score(y_test, y_pred)\n",
    "print(f\"classification_accuracy: {classification_accuracy}\")\n",
    "\n",
    "print(classification_report(y_test,y_pred))"
   ]
  },
  {
   "cell_type": "markdown",
   "metadata": {},
   "source": [
    "## 13.4) ROC curve for Random Forest"
   ]
  },
  {
   "cell_type": "code",
   "execution_count": 55,
   "metadata": {
    "scrolled": false
   },
   "outputs": [
    {
     "name": "stdout",
     "output_type": "stream",
     "text": [
      "AUC: 0.94\n"
     ]
    },
    {
     "data": {
      "image/png": "[encoded data removed]",
      "text/plain": [
       "<Figure size 720x720 with 1 Axes>"
      ]
     },
     "metadata": {
      "needs_background": "light"
     },
     "output_type": "display_data"
    }
   ],
   "source": [
    "fpr, tpr, thresholds = roc_curve(y_test,y_pred)\n",
    "#print(fpr)\n",
    "#print(tpr)\n",
    "\n",
    "# Call the auc() function to calculate the area under the curve\n",
    "# Need to pass the false positive rates (fpr) and true positive rates as parameters to the function\n",
    "roc_auc = auc(fpr,tpr)\n",
    "print(f'AUC: {roc_auc:0.2f}') # float 2 places of decimal\n",
    "\n",
    "# Plot ROC curve\n",
    "plt.figure(figsize=(10,10))\n",
    "plt.plot(fpr,tpr,label='ROC curve(area= %2.f)' %roc_auc)\n",
    "plt.plot([0,1],[0,1],'k--')\n",
    "plt.xlim([0.0,1.0])\n",
    "plt.ylim([0.0,1.05])\n",
    "plt.xlabel('False positive rate')\n",
    "plt.ylabel('True positive rate')\n",
    "plt.title('ROC curve')\n",
    "plt.legend(loc='lower right')\n",
    "plt.grid()"
   ]
  },
  {
   "cell_type": "markdown",
   "metadata": {},
   "source": [
    "## 13.5) Optimizing KNN "
   ]
  },
  {
   "cell_type": "code",
   "execution_count": 56,
   "metadata": {},
   "outputs": [
    {
     "name": "stdout",
     "output_type": "stream",
     "text": [
      "Best params: {'n_neighbors': 6, 'weights': 'distance'}, score: 0.79\n"
     ]
    }
   ],
   "source": [
    "param_grid = [\n",
    "              {\"n_neighbors\": range(1, 10)},\n",
    "              {\"n_neighbors\": range(1, 10), \"weights\": [\"uniform\", \"distance\"]}\n",
    "             ]\n",
    "\n",
    "# Instantiate a grid search object and fit it to the training data\n",
    "clf = KNeighborsClassifier()\n",
    "grid = GridSearchCV(clf, param_grid, verbose=0, cv=5, scoring='f1')\n",
    "grid.fit(X_train, y_train)\n",
    "print(f\"Best params: {grid.best_params_}, score: {grid.best_score_:0.2f}\")"
   ]
  },
  {
   "cell_type": "markdown",
   "metadata": {},
   "source": [
    "## 13.6) Train, fit and Predict using KNN¶"
   ]
  },
  {
   "cell_type": "code",
   "execution_count": 57,
   "metadata": {},
   "outputs": [],
   "source": [
    "knc = KNeighborsClassifier(n_neighbors= 6, weights= 'distance').fit(X_train, y_train)\n",
    "y_pred = knc.predict(X_test)"
   ]
  },
  {
   "cell_type": "markdown",
   "metadata": {},
   "source": [
    "## 13.7) Evaluation Metrics for KNN"
   ]
  },
  {
   "cell_type": "code",
   "execution_count": 58,
   "metadata": {},
   "outputs": [
    {
     "name": "stdout",
     "output_type": "stream",
     "text": [
      "True: [1 1 0 0 0 0 0 0 0 1 0 1 0 1 0 0 1 0 0 1 1 0 1 0 0]\n",
      "Pred: [1 1 0 0 0 0 0 0 0 1 0 0 1 1 0 0 1 0 0 1 1 0 1 0 0]\n",
      "classification_accuracy: 0.8400501954727545\n",
      "              precision    recall  f1-score   support\n",
      "\n",
      "           0       0.84      0.89      0.86     11720\n",
      "           1       0.84      0.77      0.81      8999\n",
      "\n",
      "    accuracy                           0.84     20719\n",
      "   macro avg       0.84      0.83      0.84     20719\n",
      "weighted avg       0.84      0.84      0.84     20719\n",
      "\n"
     ]
    }
   ],
   "source": [
    "print('True:', y_test.values[0:25])\n",
    "print('Pred:', y_pred[0:25])\n",
    "\n",
    "classification_accuracy = accuracy_score(y_test, y_pred)\n",
    "print(f\"classification_accuracy: {classification_accuracy}\")\n",
    "\n",
    "print(classification_report(y_test,y_pred))"
   ]
  },
  {
   "cell_type": "markdown",
   "metadata": {},
   "source": [
    "## 13.8) ROC curve for KNN"
   ]
  },
  {
   "cell_type": "code",
   "execution_count": 59,
   "metadata": {},
   "outputs": [
    {
     "name": "stdout",
     "output_type": "stream",
     "text": [
      "AUC: 0.83\n"
     ]
    },
    {
     "data": {
      "image/png": "[encoded data removed]",
      "text/plain": [
       "<Figure size 720x720 with 1 Axes>"
      ]
     },
     "metadata": {
      "needs_background": "light"
     },
     "output_type": "display_data"
    }
   ],
   "source": [
    "fpr, tpr, thresholds = roc_curve(y_test,y_pred)\n",
    "#print(fpr)\n",
    "#print(tpr)\n",
    "\n",
    "# Call the auc() function to calculate the area under the curve\n",
    "# Need to pass the false positive rates (fpr) and true positive rates as parameters to the function\n",
    "roc_auc = auc(fpr,tpr)\n",
    "print(f'AUC: {roc_auc:0.2f}') # float 2 places of decimal\n",
    "\n",
    "# Plot ROC curve\n",
    "plt.figure(figsize=(10,10))\n",
    "plt.plot(fpr,tpr,label='ROC curve(area= %2.f)' %roc_auc)\n",
    "plt.plot([0,1],[0,1],'k--')\n",
    "plt.xlim([0.0,1.0])\n",
    "plt.ylim([0.0,1.05])\n",
    "plt.xlabel('False positive rate')\n",
    "plt.ylabel('True positive rate')\n",
    "plt.title('ROC curve')\n",
    "plt.legend(loc='lower right')\n",
    "plt.grid()\n"
   ]
  },
  {
   "cell_type": "code",
   "execution_count": null,
   "metadata": {},
   "outputs": [],
   "source": []
  }
 ],
 "metadata": {
  "kernelspec": {
   "display_name": "Python 3",
   "language": "python",
   "name": "python3"
  },
  "language_info": {
   "codemirror_mode": {
    "name": "ipython",
    "version": 3
   },
   "file_extension": ".py",
   "mimetype": "text/x-python",
   "name": "python",
   "nbconvert_exporter": "python",
   "pygments_lexer": "ipython3",
   "version": "3.8.5"
  }
 },
 "nbformat": 4,
 "nbformat_minor": 4
}
